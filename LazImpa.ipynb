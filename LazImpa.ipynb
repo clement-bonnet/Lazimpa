{
  "nbformat": 4,
  "nbformat_minor": 0,
  "metadata": {
    "accelerator": "GPU",
    "colab": {
      "name": "LazImpa.ipynb",
      "provenance": [],
      "collapsed_sections": [],
      "toc_visible": true
    },
    "kernelspec": {
      "display_name": "Python 3",
      "language": "python",
      "name": "python3"
    },
    "language_info": {
      "codemirror_mode": {
        "name": "ipython",
        "version": 3
      },
      "file_extension": ".py",
      "mimetype": "text/x-python",
      "name": "python",
      "nbconvert_exporter": "python",
      "pygments_lexer": "ipython3",
      "version": "3.7.3"
    }
  },
  "cells": [
    {
      "cell_type": "markdown",
      "metadata": {
        "id": "ZohMEuzxN3YN"
      },
      "source": [
        "# **LazImpa**\n",
        "\n",
        "*Mathieu Rita*\n",
        "\n"
      ]
    },
    {
      "cell_type": "markdown",
      "metadata": {
        "id": "UH68a3blOhcn"
      },
      "source": [
        "_______________\n",
        "**INTRODUCTION**\n",
        "\n",
        "This notebook shows how to run the experiments from the paper: *“LazImpa”: Lazy and Impatient neural agents learn to communicate efficiently*. WIth this notebook, you will be able to reproduce the results shown in the paper. By default, we set here a small input space (`n_features=100`) such that an experiment can be run in a few hours on Google Colab.\n",
        "\n",
        "The notebook is organized in 3 sections:\n",
        "\n",
        "- I- Clone LazImpa repository and set the environment\n",
        "- II- Train LazImpa\n",
        "- III- Analyse results.\n",
        "\n",
        "_________________"
      ]
    },
    {
      "cell_type": "markdown",
      "metadata": {
        "id": "97Dsr910QUWc"
      },
      "source": [
        "## I - Clone LazImpa repository and set the environment"
      ]
    },
    {
      "cell_type": "markdown",
      "metadata": {
        "id": "WsgEO4Nj34Mn"
      },
      "source": [
        "___________________\n",
        "\n",
        "In this section, clone LazImpa GitHub repository and set the environment with the correct architecture. In order to save the useful data during the training you have to choose a directory name (ex: `dir_save`) in which all the training data will be saved and create it with the following organization:\n",
        "\n",
        "|_ `dir_save`\n",
        "\n",
        "|___ `messages`\n",
        "\n",
        "|___ `accuracy`\n",
        "\n",
        "|___ `sender`\n",
        "\n",
        "|___ `receiver`\n",
        "\n",
        "Then, for analysis, create a directory in which all the analytical data will be saved (ex: `analysis`)\n",
        "\n",
        "Eventually, import some functions that will be used for the analysis.\n",
        "___________________"
      ]
    },
    {
      "cell_type": "code",
      "metadata": {
        "colab": {
          "base_uri": "https://localhost:8080/"
        },
        "id": "WyOHf9BLN0dq",
        "outputId": "36d217f2-8933-4462-9cc5-7ab41b0aa1fe"
      },
      "source": [
        "# Clone repository\n",
        "! git clone https://github.com/clement-bonnet/Lazimpa.git\n",
        "! mv \"./Lazimpa/egg\" \"./egg\"\n",
        "! mv \"./Lazimpa/example\" \"./example\""
      ],
      "execution_count": null,
      "outputs": [
        {
          "output_type": "stream",
          "text": [
            "Cloning into 'Lazimpa'...\n",
            "remote: Enumerating objects: 9929, done.\u001b[K\n",
            "remote: Total 9929 (delta 0), reused 0 (delta 0), pack-reused 9929\u001b[K\n",
            "Receiving objects: 100% (9929/9929), 988.19 MiB | 31.79 MiB/s, done.\n",
            "Resolving deltas: 100% (8498/8498), done.\n",
            "Checking out files: 100% (12397/12397), done.\n"
          ],
          "name": "stdout"
        }
      ]
    },
    {
      "cell_type": "code",
      "metadata": {
        "id": "DoeSiRIzQQdp"
      },
      "source": [
        "# Create the useful directory for training and analysis\n",
        "\n",
        "! mkdir -p dir_save/{accuracy,messages,sender,receiver} # dir_save is the saving directory name\n",
        "! mkdir analysis"
      ],
      "execution_count": null,
      "outputs": []
    },
    {
      "cell_type": "code",
      "metadata": {
        "id": "WknJc6zrRhjL"
      },
      "source": [
        "\n",
        "# Useful functions (for analysis)\n",
        "import numpy as np\n",
        "import matplotlib.pyplot as plt\n",
        "\n",
        "def load_message(expe):\n",
        "  \"\"\"\n",
        "  Load messages stored during training procedure/\n",
        "  Return numpy array with all the messages\n",
        "  \"\"\"\n",
        "  np_load_old = np.load\n",
        "  messages = np.load(expe,allow_pickle=True)\n",
        "  np.load = np_load_old\n",
        "  return messages\n",
        "\n",
        "def img2gif(img_dir,output_file):\n",
        "  \"\"\"\n",
        "  Transform a folder of images (img_dir) into a gif and save it with name output_file\n",
        "  \"\"\"\n",
        "  ! pip install images2gif\n",
        "  import glob\n",
        "  from PIL import Image\n",
        "\n",
        "  # filepaths\n",
        "  import os\n",
        "  files = os.listdir(img_dir)\n",
        "  files = [ _ for _ in files if \".png\" in _ ]\n",
        "  files = [int((_.split(\"test\"))[1].split(\".\")[0]) for _ in files]\n",
        "  files.sort()\n",
        "  fp_in= [img_dir+\"/test\"+str(_)+\".png\" for _ in files]\n",
        "  fp_out = output_file\n",
        "\n",
        "  img, *imgs = [Image.open(f).resize((800,200)) for f in fp_in]\n",
        "  img.save(fp=fp_out, format='GIF', append_images=imgs,\n",
        "          save_all=True, duration=60, loop=0)"
      ],
      "execution_count": null,
      "outputs": []
    },
    {
      "cell_type": "markdown",
      "metadata": {
        "id": "mjyJx_VdRjzE"
      },
      "source": [
        "## II - Train LazImpa"
      ]
    },
    {
      "cell_type": "markdown",
      "metadata": {
        "id": "43MYGcHQSZR9"
      },
      "source": [
        "____________________\n",
        "In this section we propose the code to train agents. Here we put the Hparams to run LazImpa. *If you want to test other agents model shown in the paper, change the parameters `impatient` and `reg`. You can also play with the other H-parameters*\n",
        "\n",
        "\n",
        "**Data saved:**\n",
        "\n",
        "Current messages and accuracy by input are saved at each training episode in `dir_save/messages` and `dir_save/accuracy` and the weights of the agents are saved every 50 epochs in `dir_save/sender` and `dir_save/receiver`.\n",
        "_____________________"
      ]
    },
    {
      "cell_type": "markdown",
      "metadata": {
        "id": "5vlbWKBiS9nO"
      },
      "source": [
        "## Old loss - No impatient"
      ]
    },
    {
      "cell_type": "code",
      "metadata": {
        "colab": {
          "base_uri": "https://localhost:8080/"
        },
        "id": "3FbRFCuFguTm",
        "outputId": "bb3712d0-7b5e-4250-a35a-99f0518d69f7"
      },
      "source": [
        "#We have to put epoch number to 101 so that the receiver_weights100.pth will be saved ;)\n",
        "#Good job!\n",
        "! python -m egg.zoo.channel.train --dir_save=dir_save \\\n",
        "                                  --impatient=False \\\n",
        "                                  --reg=False \\\n",
        "                                  --vocab_size=40 \\\n",
        "                                  --max_len=30 \\\n",
        "                                  --n_features=100 \\\n",
        "                                  --print_message=False \\\n",
        "                                  --random_seed=7 \\\n",
        "                                  --probs=\"powerlaw\" \\\n",
        "                                  --n_epoch=101 \\\n",
        "                                  --batch_size=512 \\\n",
        "                                  --length_cost=100. \\\n",
        "                                  --sender_cell=\"lstm\" \\\n",
        "                                  --receiver_cell=\"lstm\" \\\n",
        "                                  --sender_hidden=250 \\\n",
        "                                  --receiver_hidden=600 \\\n",
        "                                  --receiver_embedding=100 \\\n",
        "                                  --sender_embedding=10 \\\n",
        "                                  --batches_per_epoch=100 \\\n",
        "                                  --lr=0.001 \\\n",
        "                                  --sender_entropy_coeff=2. \\\n",
        "                                  --sender_num_layers=1 \\\n",
        "                                  --receiver_num_layers=1 \\\n",
        "                                  --early_stopping_thr=0.99"
      ],
      "execution_count": null,
      "outputs": [
        {
          "output_type": "stream",
          "text": [
            "/usr/bin/python3: Error while finding module specification for 'egg.zoo.channel.train' (ModuleNotFoundError: No module named 'egg')\n"
          ],
          "name": "stdout"
        }
      ]
    },
    {
      "cell_type": "markdown",
      "metadata": {
        "id": "WEiEyWRqZMyn"
      },
      "source": [
        "## Old loss - Impatient"
      ]
    },
    {
      "cell_type": "code",
      "metadata": {
        "id": "tHx7oU9bZEdw",
        "colab": {
          "base_uri": "https://localhost:8080/"
        },
        "outputId": "e8e79aa4-4d0f-435b-9901-edcdadbe1fd2"
      },
      "source": [
        "#We have to put epoch number to 101 so that the receiver_weights100.pth will be saved ;)\n",
        "! python -m egg.zoo.channel.train --dir_save=dir_save \\\n",
        "                                  --impatient=True \\\n",
        "                                  --reg=True \\\n",
        "                                  --vocab_size=40 \\\n",
        "                                  --max_len=30 \\\n",
        "                                  --n_features=100 \\\n",
        "                                  --print_message=False \\\n",
        "                                  --random_seed=7 \\\n",
        "                                  --probs=\"powerlaw\" \\\n",
        "                                  --n_epoch=501 \\\n",
        "                                  --batch_size=512 \\\n",
        "                                  --length_cost=0. \\\n",
        "                                  --sender_cell=\"lstm\" \\\n",
        "                                  --receiver_cell=\"lstm\" \\\n",
        "                                  --sender_hidden=250 \\\n",
        "                                  --receiver_hidden=600 \\\n",
        "                                  --receiver_embedding=100 \\\n",
        "                                  --sender_embedding=10 \\\n",
        "                                  --batches_per_epoch=100 \\\n",
        "                                  --lr=0.001 \\\n",
        "                                  --sender_entropy_coeff=2. \\\n",
        "                                  --sender_num_layers=1 \\\n",
        "                                  --receiver_num_layers=1 \\\n",
        "                                  --early_stopping_thr=0.99"
      ],
      "execution_count": null,
      "outputs": [
        {
          "output_type": "stream",
          "text": [
            "/usr/bin/python3: Error while finding module specification for 'egg.zoo.channel.train' (ModuleNotFoundError: No module named 'egg')\n"
          ],
          "name": "stdout"
        }
      ]
    },
    {
      "cell_type": "markdown",
      "metadata": {
        "id": "lVoWP5SgTENb"
      },
      "source": [
        "## New loss -NAD phonotactic"
      ]
    },
    {
      "cell_type": "code",
      "metadata": {
        "colab": {
          "base_uri": "https://localhost:8080/"
        },
        "id": "nzCwXTccTF4-",
        "outputId": "7f37f1a1-e854-4e86-cb87-6b262e98a830"
      },
      "source": [
        "#We have to put epoch number to 101 so that the receiver_weights100.pth will be saved ;)\n",
        "! python -m egg.zoo.channel.train_new_loss  --dir_save=dir_save \\\n",
        "                                            --impatient=False \\\n",
        "                                            --reg=True \\\n",
        "                                            --vocab_size=40 \\\n",
        "                                            --max_len=30 \\\n",
        "                                            --n_features=100 \\\n",
        "                                            --print_message=True \\\n",
        "                                            --random_seed=7 \\\n",
        "                                            --probs=\"powerlaw\" \\\n",
        "                                            --n_epoch=501 \\\n",
        "                                            --batch_size=512 \\\n",
        "                                            --length_cost=0. \\\n",
        "                                            --sender_cell=\"lstm\" \\\n",
        "                                            --receiver_cell=\"lstm\" \\\n",
        "                                            --sender_hidden=250 \\\n",
        "                                            --receiver_hidden=600 \\\n",
        "                                            --receiver_embedding=100 \\\n",
        "                                            --sender_embedding=10 \\\n",
        "                                            --batches_per_epoch=100 \\\n",
        "                                            --lr=0.001 \\\n",
        "                                            --sender_entropy_coeff=2. \\\n",
        "                                            --sender_num_layers=1 \\\n",
        "                                            --receiver_num_layers=1 \\\n",
        "                                            --early_stopping_thr=0.99 \\\n",
        "                                            --lambda_nad=0.1"
      ],
      "execution_count": null,
      "outputs": [
        {
          "output_type": "stream",
          "text": [
            "/usr/bin/python3: Error while finding module specification for 'egg.zoo.channel.train_new_loss' (ModuleNotFoundError: No module named 'egg')\n"
          ],
          "name": "stdout"
        }
      ]
    },
    {
      "cell_type": "code",
      "metadata": {
        "colab": {
          "base_uri": "https://localhost:8080/"
        },
        "id": "OUx5oMYyzIRn",
        "outputId": "b66e1509-acba-497d-cf64-a3c98620f1d1"
      },
      "source": [
        "!zip -r /content/dir_save_not_impatient_nad_1e-1.zip /content/dir_save"
      ],
      "execution_count": null,
      "outputs": [
        {
          "output_type": "stream",
          "text": [
            "  adding: content/dir_save/ (stored 0%)\n",
            "  adding: content/dir_save/messages/ (stored 0%)\n",
            "  adding: content/dir_save/receiver/ (stored 0%)\n",
            "  adding: content/dir_save/accuracy/ (stored 0%)\n",
            "  adding: content/dir_save/sender/ (stored 0%)\n"
          ],
          "name": "stdout"
        }
      ]
    },
    {
      "cell_type": "markdown",
      "metadata": {
        "id": "e_fRFi0pv06C"
      },
      "source": [
        "## III- Analyze the results"
      ]
    },
    {
      "cell_type": "markdown",
      "metadata": {
        "id": "4sE5VtRV1pjO"
      },
      "source": [
        "________________________\n",
        "In this section, we propose some insights to analyze the training: \n",
        "\n",
        "- 1. In the first subsection, we run the code lines that allow to reproduce the tests presented in the paper. \n",
        "\n",
        "- 2. Then, in the second subsection, we propose a few useful plots to analyze the tests.\n",
        "____________________________"
      ]
    },
    {
      "cell_type": "markdown",
      "metadata": {
        "id": "royrI78mv5Y0"
      },
      "source": [
        "### III.1. Perform the analytical tests"
      ]
    },
    {
      "cell_type": "code",
      "metadata": {
        "colab": {
          "base_uri": "https://localhost:8080/"
        },
        "id": "jOpsCAFOv1GL",
        "outputId": "9996d31b-c154-46d9-93e1-f8fa22fa2b44"
      },
      "source": [
        "#Fixed for NAD loss: set n_features = 300 instead of 100 (OR set n_features = 100 during training)\n",
        "! python -m egg.zoo.channel.test --impatient=True --save_dir=\"analysis/\" --receiver_weights=\"dir_save/receiver/receiver_weights100.pth\" --sender_weights=\"dir_save/sender/sender_weights100.pth\" --vocab_size=40  --max_len=30 --n_features=100 --sender_cell=\"lstm\" --receiver_cell=\"lstm\" --sender_hidden=250 --receiver_hidden=600 --receiver_embedding=100 --sender_embedding=10 --sender_num_layers=1 --receiver_num_layers=1"
      ],
      "execution_count": null,
      "outputs": [
        {
          "output_type": "stream",
          "text": [
            "/usr/bin/python3: Error while finding module specification for 'egg.zoo.channel.test' (ModuleNotFoundError: No module named 'egg')\n"
          ],
          "name": "stdout"
        }
      ]
    },
    {
      "cell_type": "code",
      "metadata": {
        "colab": {
          "base_uri": "https://localhost:8080/"
        },
        "id": "yDe4INqV1WUW",
        "outputId": "25ce02a9-2f35-4997-f32d-a5f5c14d039e"
      },
      "source": [
        "#Fixed for NAD loss: set n_features = 300 instead of 100 (OR set n_features = 100 during training)\n",
        "! python -m egg.zoo.channel.position_analysis --save_dir=\"analysis/\" --impatient=True --sender_weights=\"dir_save/sender/sender_weights100.pth\" --receiver_weights=\"dir_save/receiver/receiver_weights100.pth\" --vocab_size=40 --n_features=100 --max_len=30 --sender_cell=\"lstm\" --receiver_cell=\"lstm\" --sender_hidden=250 --receiver_hidden=600 --receiver_embedding=100 --sender_embedding=10 --sender_num_layers=1 --receiver_num_layers=1"
      ],
      "execution_count": null,
      "outputs": [
        {
          "output_type": "stream",
          "text": [
            "/usr/bin/python3: Error while finding module specification for 'egg.zoo.channel.position_analysis' (ModuleNotFoundError: No module named 'egg')\n"
          ],
          "name": "stdout"
        }
      ]
    },
    {
      "cell_type": "markdown",
      "metadata": {
        "id": "qEMI1Ucy2rP9"
      },
      "source": [
        "### III-2. Analytical plots"
      ]
    },
    {
      "cell_type": "markdown",
      "metadata": {
        "id": "KNQjqtmkF6PE"
      },
      "source": [
        "**0. Number of consonent clusters:** Count number of consonent clusters of size 2 and 3 for each message"
      ]
    },
    {
      "cell_type": "code",
      "metadata": {
        "colab": {
          "base_uri": "https://localhost:8080/",
          "height": 395
        },
        "id": "hNKw40wWIDtD",
        "outputId": "7295197e-f2fb-4601-9e82-2714345fb521"
      },
      "source": [
        "# Choose epochs (between 0 and 500)\n",
        "epochs=[1,90,100]\n",
        "\n",
        "for epoch in epochs:\n",
        "  # Load messages\n",
        "  messages=load_message(\"dir_save/messages/messages_\"+str(epoch)+\".npy\")\n",
        "\n",
        "  # Construct the length distribution\n",
        "  clstr2=[] #count number of clsuters of size 2\n",
        "  clstr3=[] #count number of clsuters of size 3\n",
        "  \n",
        "  for message in messages:\n",
        "    ct2 = 0\n",
        "    ct3 = 0\n",
        "    for i in range(len(message)-2):\n",
        "      # segment of size 2\n",
        "      segment1 = message[i:i+2] \n",
        "      if (int(segment1[0]) < 27) and (int(segment1[1]) < 27):\n",
        "        ct2 += 1\n",
        "      \n",
        "      # segment of size 3\n",
        "      segment2 = message[i:i+3]\n",
        "      if (int(segment2[0]) < 27) and (int(segment2[1]) < 27) and (int(segment2[2]) < 27):\n",
        "        ct3 += 1\n",
        "\n",
        "    # side case of size 2\n",
        "    if len(message) > 1:\n",
        "      if (int(message[-2]) < 27) and (int(message[-1]) < 27):\n",
        "        ct2 += 1\n",
        "    \n",
        "    clstr2.append(ct2)\n",
        "    clstr3.append(ct3)\n",
        "\n",
        "  # Add epoch to plot\n",
        "  plt.figure(1)\n",
        "  plt.plot(clstr2,label=\"Epoch \"+str(epoch))\n",
        "\n",
        "  plt.figure(2)\n",
        "  plt.plot(clstr3,label=\"Epoch \"+str(epoch))\n",
        "\n",
        "# Plot fig\n",
        "plt.figure(1)\n",
        "plt.title(\"Number of consonent clusters of size 2 as a function of inputs ranked by frequency\")\n",
        "plt.xlabel(\"Inputs ranked by frequency\")\n",
        "plt.ylabel(\"clusters of size 2\")\n",
        "plt.xlim((0,100))\n",
        "plt.ylim((0,32))\n",
        "plt.legend()\n",
        "\n",
        "plt.figure(2)\n",
        "plt.title(\"Number of consonent clusters of size 3 as a function of inputs ranked by frequency\")\n",
        "plt.xlabel(\"Inputs ranked by frequency\")\n",
        "plt.ylabel(\"clusters of size 3\")\n",
        "plt.xlim((0,100))\n",
        "plt.ylim((0,32))\n",
        "plt.legend()\n",
        "\n",
        "plt.show()"
      ],
      "execution_count": null,
      "outputs": [
        {
          "output_type": "error",
          "ename": "FileNotFoundError",
          "evalue": "ignored",
          "traceback": [
            "\u001b[0;31m---------------------------------------------------------------------------\u001b[0m",
            "\u001b[0;31mFileNotFoundError\u001b[0m                         Traceback (most recent call last)",
            "\u001b[0;32m<ipython-input-10-86c507e0ce5d>\u001b[0m in \u001b[0;36m<module>\u001b[0;34m()\u001b[0m\n\u001b[1;32m      4\u001b[0m \u001b[0;32mfor\u001b[0m \u001b[0mepoch\u001b[0m \u001b[0;32min\u001b[0m \u001b[0mepochs\u001b[0m\u001b[0;34m:\u001b[0m\u001b[0;34m\u001b[0m\u001b[0;34m\u001b[0m\u001b[0m\n\u001b[1;32m      5\u001b[0m   \u001b[0;31m# Load messages\u001b[0m\u001b[0;34m\u001b[0m\u001b[0;34m\u001b[0m\u001b[0;34m\u001b[0m\u001b[0m\n\u001b[0;32m----> 6\u001b[0;31m   \u001b[0mmessages\u001b[0m\u001b[0;34m=\u001b[0m\u001b[0mload_message\u001b[0m\u001b[0;34m(\u001b[0m\u001b[0;34m\"dir_save/messages/messages_\"\u001b[0m\u001b[0;34m+\u001b[0m\u001b[0mstr\u001b[0m\u001b[0;34m(\u001b[0m\u001b[0mepoch\u001b[0m\u001b[0;34m)\u001b[0m\u001b[0;34m+\u001b[0m\u001b[0;34m\".npy\"\u001b[0m\u001b[0;34m)\u001b[0m\u001b[0;34m\u001b[0m\u001b[0;34m\u001b[0m\u001b[0m\n\u001b[0m\u001b[1;32m      7\u001b[0m \u001b[0;34m\u001b[0m\u001b[0m\n\u001b[1;32m      8\u001b[0m   \u001b[0;31m# Construct the length distribution\u001b[0m\u001b[0;34m\u001b[0m\u001b[0;34m\u001b[0m\u001b[0;34m\u001b[0m\u001b[0m\n",
            "\u001b[0;32m<ipython-input-3-1d1c56ebdbbb>\u001b[0m in \u001b[0;36mload_message\u001b[0;34m(expe)\u001b[0m\n\u001b[1;32m     10\u001b[0m   \"\"\"\n\u001b[1;32m     11\u001b[0m   \u001b[0mnp_load_old\u001b[0m \u001b[0;34m=\u001b[0m \u001b[0mnp\u001b[0m\u001b[0;34m.\u001b[0m\u001b[0mload\u001b[0m\u001b[0;34m\u001b[0m\u001b[0;34m\u001b[0m\u001b[0m\n\u001b[0;32m---> 12\u001b[0;31m   \u001b[0mmessages\u001b[0m \u001b[0;34m=\u001b[0m \u001b[0mnp\u001b[0m\u001b[0;34m.\u001b[0m\u001b[0mload\u001b[0m\u001b[0;34m(\u001b[0m\u001b[0mexpe\u001b[0m\u001b[0;34m,\u001b[0m\u001b[0mallow_pickle\u001b[0m\u001b[0;34m=\u001b[0m\u001b[0;32mTrue\u001b[0m\u001b[0;34m)\u001b[0m\u001b[0;34m\u001b[0m\u001b[0;34m\u001b[0m\u001b[0m\n\u001b[0m\u001b[1;32m     13\u001b[0m   \u001b[0mnp\u001b[0m\u001b[0;34m.\u001b[0m\u001b[0mload\u001b[0m \u001b[0;34m=\u001b[0m \u001b[0mnp_load_old\u001b[0m\u001b[0;34m\u001b[0m\u001b[0;34m\u001b[0m\u001b[0m\n\u001b[1;32m     14\u001b[0m   \u001b[0;32mreturn\u001b[0m \u001b[0mmessages\u001b[0m\u001b[0;34m\u001b[0m\u001b[0;34m\u001b[0m\u001b[0m\n",
            "\u001b[0;32m/usr/local/lib/python3.7/dist-packages/numpy/lib/npyio.py\u001b[0m in \u001b[0;36mload\u001b[0;34m(file, mmap_mode, allow_pickle, fix_imports, encoding)\u001b[0m\n\u001b[1;32m    414\u001b[0m             \u001b[0mown_fid\u001b[0m \u001b[0;34m=\u001b[0m \u001b[0;32mFalse\u001b[0m\u001b[0;34m\u001b[0m\u001b[0;34m\u001b[0m\u001b[0m\n\u001b[1;32m    415\u001b[0m         \u001b[0;32melse\u001b[0m\u001b[0;34m:\u001b[0m\u001b[0;34m\u001b[0m\u001b[0;34m\u001b[0m\u001b[0m\n\u001b[0;32m--> 416\u001b[0;31m             \u001b[0mfid\u001b[0m \u001b[0;34m=\u001b[0m \u001b[0mstack\u001b[0m\u001b[0;34m.\u001b[0m\u001b[0menter_context\u001b[0m\u001b[0;34m(\u001b[0m\u001b[0mopen\u001b[0m\u001b[0;34m(\u001b[0m\u001b[0mos_fspath\u001b[0m\u001b[0;34m(\u001b[0m\u001b[0mfile\u001b[0m\u001b[0;34m)\u001b[0m\u001b[0;34m,\u001b[0m \u001b[0;34m\"rb\"\u001b[0m\u001b[0;34m)\u001b[0m\u001b[0;34m)\u001b[0m\u001b[0;34m\u001b[0m\u001b[0;34m\u001b[0m\u001b[0m\n\u001b[0m\u001b[1;32m    417\u001b[0m             \u001b[0mown_fid\u001b[0m \u001b[0;34m=\u001b[0m \u001b[0;32mTrue\u001b[0m\u001b[0;34m\u001b[0m\u001b[0;34m\u001b[0m\u001b[0m\n\u001b[1;32m    418\u001b[0m \u001b[0;34m\u001b[0m\u001b[0m\n",
            "\u001b[0;31mFileNotFoundError\u001b[0m: [Errno 2] No such file or directory: 'dir_save/messages/messages_1.npy'"
          ]
        }
      ]
    },
    {
      "cell_type": "markdown",
      "metadata": {
        "id": "CQV1kW3572F0"
      },
      "source": [
        "**1. Length distribution for different epochs:** length distribution converges almost toward Optimal coding"
      ]
    },
    {
      "cell_type": "code",
      "metadata": {
        "id": "EWzpfzfK72N6"
      },
      "source": [
        "# Choose epochs (between 0 and 500)\n",
        "epochs=[1,50,90,95,100]\n",
        "\n",
        "for epoch in epochs:\n",
        "  # Load messages\n",
        "  messages=load_message(\"dir_save/messages/messages_\"+str(epoch)+\".npy\")\n",
        "\n",
        "  # Construct the length distribution\n",
        "  length_distribution=[]\n",
        "  for message in messages:\n",
        "    length_distribution.append(len(message))\n",
        "\n",
        "  # Add epoch to plot\n",
        "  plt.plot(length_distribution,label=\"Epoch \"+str(epoch))\n",
        "\n",
        "# Plot fig\n",
        "plt.title(\"Message length as a function of inputs ranked by frequency\")\n",
        "plt.xlabel(\"Inputs ranked by frequency\")\n",
        "plt.ylabel(\"Message length\")\n",
        "plt.xlim((0,100))\n",
        "plt.ylim((0,32))\n",
        "plt.legend()\n",
        "plt.show()"
      ],
      "execution_count": null,
      "outputs": []
    },
    {
      "cell_type": "markdown",
      "metadata": {
        "id": "M1q3wxa33bZi"
      },
      "source": [
        "**2. Accuracy evolution**"
      ]
    },
    {
      "cell_type": "code",
      "metadata": {
        "id": "cNvWIIon3FqT"
      },
      "source": [
        "# Get accuracy\n",
        "accuracy=[]\n",
        "for i in range(1,100):\n",
        "  accuracy.append(np.mean(np.load(\"dir_save/accuracy/accuracy_\"+str(i)+\".npy\")))\n",
        "\n",
        "# Plot fig\n",
        "fig, ax = plt.subplots(1, 1, figsize=(11,4))\n",
        "ax.plot(accuracy,label=\"LazImpa\",c=\"tab:blue\")\n",
        "ax.set_title(\"Accuracy evolution\")\n",
        "ax.set_xlabel(\"Training episodes\")\n",
        "ax.set_ylabel(\"Accuracy\")\n",
        "ax.set_xlim((0,500))\n",
        "ax.set_ylim((0,1))\n",
        "\n",
        "plt.show()"
      ],
      "execution_count": null,
      "outputs": []
    },
    {
      "cell_type": "markdown",
      "metadata": {
        "id": "8kwyJup-z0xD"
      },
      "source": [
        "**3. Mean length evolution**"
      ]
    },
    {
      "cell_type": "code",
      "metadata": {
        "id": "77_FNN-8z05i"
      },
      "source": [
        "mean_length_evolution=[]\n",
        "\n",
        "for epoch in range(100):\n",
        "  # Load messages\n",
        "  messages=load_message(\"dir_save/messages/messages_\"+str(epoch)+\".npy\")\n",
        "\n",
        "  # Construct the length distribution\n",
        "  length_distribution=[]\n",
        "  for message in messages:\n",
        "    length_distribution.append(len(message))\n",
        "  \n",
        "  # Get the mean length\n",
        "  mean_length_evolution.append(np.mean(length_distribution))\n",
        "\n",
        "# Plot fig\n",
        "fig, ax = plt.subplots(1, 1, figsize=(11,4))\n",
        "ax.plot(mean_length_evolution,label=\"LazImpa\",c=\"tab:blue\")\n",
        "ax.set_title(\"Mean length evolution\")\n",
        "ax.set_xlabel(\"Training episodes\")\n",
        "ax.set_ylabel(\"Mean length\")\n",
        "ax.set_xlim((0,500))\n",
        "ax.set_ylim((0,31))\n",
        "\n",
        "plt.show()"
      ],
      "execution_count": null,
      "outputs": []
    },
    {
      "cell_type": "markdown",
      "metadata": {
        "id": "lz_W8RAT0ZFx"
      },
      "source": [
        "**4. Accuracy = f(mean_length)**: co-evolution of the accuracy and mean message length: allow us to spot the beginning of the regularization (laziness)"
      ]
    },
    {
      "cell_type": "code",
      "metadata": {
        "id": "L12Ru6Vb0ZMh"
      },
      "source": [
        "mean_length_evolution=[]\n",
        "accuracy=[]\n",
        "\n",
        "for epoch in range(100):\n",
        "  # Load messages\n",
        "  messages=load_message(\"dir_save/messages/messages_\"+str(epoch)+\".npy\")\n",
        "\n",
        "  # Construct the length distribution\n",
        "  length_distribution=[]\n",
        "  for message in messages:\n",
        "    length_distribution.append(len(message))\n",
        "  \n",
        "  # Get the mean length\n",
        "  mean_length_evolution.append(np.mean(length_distribution))\n",
        "\n",
        "  # Get the accuracy\n",
        "  accuracy.append(np.mean(np.load(\"dir_save/accuracy/accuracy_\"+str(epoch)+\".npy\")))\n",
        "\n",
        "# Plot fig\n",
        "fig, ax = plt.subplots(1, 1, figsize=(7,7))\n",
        "ax.scatter(mean_length_evolution,accuracy,s=2.5)\n",
        "ax.set_title(\"Accuracy= f(mean message length)\")\n",
        "ax.set_xlabel(\"Mean message length\")\n",
        "ax.set_ylabel(\"Accuracy\")\n",
        "ax.set_xlim((0,31))\n",
        "ax.set_ylim((0,1))\n",
        "\n",
        "plt.show()"
      ],
      "execution_count": null,
      "outputs": []
    },
    {
      "cell_type": "markdown",
      "metadata": {
        "id": "czPrlLzG1Un7"
      },
      "source": [
        "**5. Position of informative symbols**: allows us to see where informative symbols are set within the messages\n",
        "\n",
        "legend:\n",
        "- yellow: uninformative ; 1: informative; purple: no symbol\n",
        "- 1: uninformative ; 0: informative ; -1 no symbol"
      ]
    },
    {
      "cell_type": "code",
      "metadata": {
        "id": "YwJ4AR9U1Uwg"
      },
      "source": [
        "# Color the matrix of \"information test\"\n",
        "plt.matshow(np.load(\"analysis/position_sieve.npy\"))\n",
        "plt.xlabel(\"Position\")\n",
        "plt.ylabel(\"Message (ranked by frequency)\")\n",
        "plt.title(\"Position of informative symbols\")\n",
        "plt.show()"
      ],
      "execution_count": null,
      "outputs": []
    },
    {
      "cell_type": "markdown",
      "metadata": {
        "id": "ZzxmiTAO2a3P"
      },
      "source": [
        "**6. Dynamic evolution of the training**: (takes a few minutes to run)"
      ]
    },
    {
      "cell_type": "markdown",
      "metadata": {
        "id": "LDXjVkuI5X53"
      },
      "source": [
        "Create gif"
      ]
    },
    {
      "cell_type": "code",
      "metadata": {
        "id": "OXOme5_A2bBf"
      },
      "source": [
        "# Create gif\n",
        "! mkdir images_dir\n",
        "\n",
        "print(\"Create the images for gif\")\n",
        "\n",
        "accuracy_lazimpa=[]\n",
        "mean_len_lazimpa=[]\n",
        "accuracy_normal=[]\n",
        "mean_len_normal=[]\n",
        "accuracy_impatient=[]\n",
        "mean_len_impatient=[]\n",
        "accuracy_normreg=[]\n",
        "mean_len_normreg=[]\n",
        "\n",
        "for i in range(1,100):\n",
        "  messages_lazimpa=load_message(\"dir_save/messages/messages_\"+str(i)+\".npy\")\n",
        "\n",
        "  L_lazimpa=[]\n",
        "\n",
        "  for m in messages_lazimpa:\n",
        "    L_lazimpa.append(len(m))\n",
        "  \n",
        "  mean_len_lazimpa.append(np.mean(L_lazimpa))\n",
        "  accuracy_lazimpa.append(np.mean(np.load(\"dir_save/accuracy/accuracy_\"+str(i)+\".npy\")))\n",
        "\n",
        "  fig, axs = plt.subplots(1, 3, figsize=(11,4))\n",
        "  axs[0].plot(L_lazimpa,label=\"LazImpa\",c=\"tab:blue\")\n",
        "  axs[0].set_ylim((0,32))\n",
        "  axs[0].set_xlabel(\"Input ranked by frequency\")\n",
        "  axs[0].set_ylabel(\"Message length\") \n",
        "  axs[0].set_title(\"Length distribution\") \n",
        "\n",
        "  axs[1].plot(accuracy_lazimpa,label=\"LazImpa\",c=\"tab:blue\")\n",
        "  axs[1].set_xlabel(\"Training episodes\")\n",
        "  axs[1].set_ylabel(\"Accuracy\")\n",
        "  axs[1].set_title(\"Accuracy evolution\")\n",
        "  axs[1].set_xlim((0,500))\n",
        "  axs[1].set_ylim((0,1))\n",
        "\n",
        "  axs[2].plot(mean_len_lazimpa,label=\"LazImpa\",c=\"tab:blue\")\n",
        "  axs[2].set_title(\"Mean length evolution\")\n",
        "  axs[2].set_xlabel(\"Training episodes\")\n",
        "  axs[2].set_ylabel(\"Mean message length\")\n",
        "  axs[2].set_xlim((0,500))\n",
        "  axs[2].set_ylim((0,32))\n",
        "\n",
        "  fig.tight_layout(pad=2.5)\n",
        "\n",
        "  fig.suptitle(\"Episode \"+str(i)) \n",
        "  plt.savefig(\"images_dir/test\"+str(i)+\".png\")\n",
        "  plt.close() \n",
        "\n",
        "print(\"Start creating gif for messages\")\n",
        "img2gif(\"images_dir\",\"analysis/training_dynamic.gif\")\n",
        "\n",
        "! rm -rf images_dir"
      ],
      "execution_count": null,
      "outputs": []
    },
    {
      "cell_type": "markdown",
      "metadata": {
        "id": "zEPFvNth5U7B"
      },
      "source": [
        "Display it:"
      ]
    },
    {
      "cell_type": "code",
      "metadata": {
        "id": "v3P0qyBK5Vyt"
      },
      "source": [
        "print(\"Display gif\")\n",
        "from IPython.display import Image\n",
        "\n",
        "with open('analysis/training_dynamic.gif','rb') as f:\n",
        "    display(Image(data=f.read(), format='png'))\n",
        "\n",
        "! rm -rf images_dir"
      ],
      "execution_count": null,
      "outputs": []
    },
    {
      "cell_type": "markdown",
      "metadata": {
        "id": "MMpIzGKbuqGW"
      },
      "source": [
        "# Phonotactic model\n"
      ]
    },
    {
      "cell_type": "markdown",
      "metadata": {
        "id": "qMtg99DepThk"
      },
      "source": [
        "## Phonotactic literature\n"
      ]
    },
    {
      "cell_type": "markdown",
      "metadata": {
        "id": "tHib47qZpaYc"
      },
      "source": [
        "# Here are some papers I found, both on universal phonotactics and on English:\n",
        "\n",
        "http://roa.rutgers.edu/files/420-0900/roa-420-morelli-2.pdf\n",
        "\n",
        "Universal:\n",
        "-Early Ll clusters and how they relate to universal phonotactic constraints.(Dziubalska-Kolaczyk,1999; http://www.internationalphoneticassociation.org/icphs-proceedings/ICPhS1999/papers/p14_0317.pdf)\n",
        "\n",
        "Main thoughts and importance for us:\n",
        "\n",
        "C-V pairings are universally preferred, deriving directly from the figure-and-ground principle, clarity of perception and ease of articulation functions of phonology,and the principle of leas teffort. The CV-preference,if alone,would prevent the occurrence of any consonant clusters at all. Clusters,in order to survive,must be sustained by some force counteracting the overwhelming tendency to reduce towards CVs. This force is sonority.\n",
        "\n",
        "-NP Extension: B&B Phonotactics.(Dziubalska-Kolaczyk, 2009; https://www.degruyter.com/document/doi/10.2478/v10010-009-0011-9/html)\n",
        "\n",
        "Main thoughts and importance for us:\n",
        "The allowed clusters, other than C-V (which is the preference), are given by:\n",
        "\n",
        "Net Auditory Distance Principle: NAD = |MOA| + |POA| + |Lx|, where MOA, POA and Lx are the absolute\n",
        "values of differences in the Manner of Articulation, Place of Articulation and Voicing of the neighbouring sounds, respectively.\n",
        "\n",
        "Normally, they're written as preferences: \n",
        "\u0003NAD (C1,C2) ≥ \u0003NAD (C2,V)\n",
        "The preference reads: “In word-initial double clusters, the Net Auditory Distance (NAD) between the two consonants should be greater than or equal to the Net Auditory\n",
        "Distance between a vowel and a consonant neighbouring on it.\". Let us now define two Net Auditory Distances between the sounds (C1,C2) and (C2,V)\n",
        "where\n",
        "– C1 (MOA1, POA1, Lx1)\n",
        "– C2 (MOA2, POA2, Lx2)\n",
        "– V (MOA3, Lx3)\n",
        "\n",
        "The values for the computation NAD = |MOA| + |POA| + |Lx| are taken from the table below:\n",
        "\n",
        "![Captura de pantalla 2021-03-07 a la(s) 6.33.50 p. m..png](data:image/png;base64,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)\n",
        "In English: \n",
        "- Explaining phonotactics using NAD (Dziubalska-Kołaczyk,2014;https://www.sciencedirect.com/science/article/pii/S0388000114000448)\n",
        "\n",
        "Table to use in English for phonotactics: \n",
        "\n",
        "![Captura de pantalla 2021-03-07 a la(s) 6.53.34 p. m..png](data:image/png;base64,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)\n",
        "\n",
        "She also describes a phonotaictic calculator (I need to find it but maybe it has some more specific information and/or a code!), example of preferences that we could integrate in our list of preferences, and examples of the analyses to do with the data.\n",
        "For the paper: there is a great figure here explaining the explanatory model of Natural Linguistics (the papers we read did the higher principles, we intend to do the next level: preferences)\n",
        "\n",
        "\n",
        "Specifically in English:\n",
        "https://repozytorium.amu.edu.pl/bitstream/10593/10000/1/WA_Dziubalska-Kołaczyk_Phonotactics%20of%20consonant%20clusters%20in%20the%20history%20of%20English.pdf\n",
        "\n",
        "Research idea: to advance the field of computational linguistics and within the scope of Natural Phonology and Natural Linguistics, add these constraints to both the speaker and the listener to see whether the time is less than without. We'll test this with the dataset in English. \n",
        "Future directions: However, phonology alone does not fully account for clusters. Inflection, word-formation and compounding contribute to the creation of consonant clusters to an extent relative to a morphological type of a language. Therefore, a phonotactic grammar operates on basic, non-derived, lexical forms, while morphonotactics takes care of the remaining, morphologically complex, forms. Interaction between phonotactics and morphonotactics provides a richer insight into the understanding of cluster complexity(Dziubalska-Kołaczyk,2014).\n"
      ]
    },
    {
      "cell_type": "code",
      "metadata": {
        "id": "KAvj2FM7qxeD"
      },
      "source": [
        "# Cleaner\n",
        "Cs = [\n",
        "    (5,1), #C1\n",
        "    (5,1), #C2\n",
        "    (5,2), #C3\n",
        "    (5,2), #C4          \n",
        "    (5,3.5) #C5\n",
        "    (5,3.5), #C6\n",
        "    (5,5), #C7\n",
        "    (4.5,2.5), #C8\n",
        "    (4.5,2.5), #C9\n",
        "    (4,1.3), #C10\n",
        "    (4,1.3), #C11\n",
        "    (4,1.6), #C12\n",
        "    (4,1.6), #C13\n",
        "    (4,2), #C14\n",
        "    (4,2), #C15\n",
        "    (4,2.5), #C16\n",
        "    (4,2.5), #C17\n",
        "    (4,5), #C18\n",
        "    (3,1), #C19\n",
        "    (3,2), #C20\n",
        "    (3,3.5), #C21\n",
        "    (2.5,2), #C22\n",
        "    (2,2.5), #C23\n",
        "    (1,1), #C24\n",
        "    (1,3), #C25\n",
        "    (1,3.5), #C26\n",
        "    (0,0), #C27\n",
        "    (0,0), #C28\n",
        "    (0,0), #C29\n",
        "    (0,0), #C30\n",
        "    (0,0), #C31\n",
        "    (0,0), #C32\n",
        "    (0,0), #C33\n",
        "    (0,0), #C34\n",
        "    (0,0), #C35\n",
        "    (0,0), #C36\n",
        "    (0,0), #C37\n",
        "    (0,0), #C38\n",
        "    (0,0), #C39\n",
        "    (0,0), #C40\n",
        "]\n",
        "\n",
        "\n",
        "def NAD(message):\n",
        "    \"\"\"alpha, which is the alphabet length, is to be 40 (what they used for their\n",
        "    previous experiment), with 26 consonants (taken from the paper with the table\n",
        "    above and https://books.google.fr/books?hl=es&lr=&id=ALJKvQWP8FAC&oi=fnd&pg=PR13&dq=english+phoneme+inventory&ots=k7ZW05iRap&sig=jDPloSLrBLZ_kmNSJ96S5vHyS1A&redir_esc=y#v=onepage&q=english%20phoneme%20inventory&f=false)\n",
        "    and 14 vowels\n",
        "    \"\"\"\n",
        "\n",
        "\n",
        "    # consonant values have the structure (a,b), with a being the manner of\n",
        "    # articulation and b being the place of articulation. The ones that are the\n",
        "    # same are voiced and unvoiced pairs\n",
        "    Cs = []\n",
        "\n",
        "    C1=(5,1)\n",
        "    Cs.append(C1)\n",
        "    C2=(5,1)\n",
        "    Cs.append(C2)\n",
        "    C3=(5,2)\n",
        "    Cs.append(C3)\n",
        "    C4=(5,2)\n",
        "    Cs.append(C4)\n",
        "    C5=(5,3.5)\n",
        "    Cs.append(C5)\n",
        "    C6=(5,3.5)\n",
        "    Cs.append(C6)\n",
        "    C7=(5,5)\n",
        "    Cs.append(C7)\n",
        "    C8=(4.5,2.5)\n",
        "    Cs.append(C8)\n",
        "    C9=(4.5,2.5)\n",
        "    Cs.append(C9)\n",
        "    C10=(4,1.3)\n",
        "    Cs.append(C10)\n",
        "    C11=(4,1.3)\n",
        "    Cs.append(C11)\n",
        "    C12=(4,1.6)\n",
        "    Cs.append(C12)\n",
        "    C13=(4,1.6)\n",
        "    Cs.append(C13)\n",
        "    C14=(4,2)\n",
        "    Cs.append(C14)\n",
        "    C15=(4,2)\n",
        "    Cs.append(C15)\n",
        "    C16=(4,2.5)\n",
        "    Cs.append(C16)\n",
        "    C17=(4,2.5)\n",
        "    Cs.append(C17)\n",
        "    C18=(4,5)\n",
        "    Cs.append(C18)\n",
        "    C19=(3,1)\n",
        "    Cs.append(C19)\n",
        "    C20=(3,2)\n",
        "    Cs.append(C20)\n",
        "    C21=(3,3.5)\n",
        "    Cs.append(C21)\n",
        "    C22=(2.5,2)\n",
        "    Cs.append(C22)\n",
        "    C23=(2,2.5)\n",
        "    Cs.append(C23)\n",
        "    C24=(1,1)\n",
        "    Cs.append(C24)\n",
        "    C25=(1,3)\n",
        "    Cs.append(C25)\n",
        "    C26=(1,3.5)\n",
        "    Cs.append(C26)\n",
        "    # Vowels have a value of 0\n",
        "    C27=0\n",
        "    C28=0\n",
        "    C29=0\n",
        "    C30=0\n",
        "    C31=0\n",
        "    C32=0\n",
        "    C33=0\n",
        "    C34=0\n",
        "    C35=0\n",
        "    C36=0\n",
        "    C37=0\n",
        "    C38=0\n",
        "    C39=0\n",
        "    C40=0\n",
        "\n",
        "    # =====\n",
        "    # I dont know if this is true but I set key and value to 0 for vowels,\n",
        "    # since we need both of them when computing NAD\n",
        "    # =====\n",
        "    Cs = Cs + 14*[(0,0)]\n",
        "\n",
        "\n",
        "\n",
        "\n",
        "    #Goal is to get these preferences: \n",
        "    #C1C2V\n",
        "    #NAD (C1,C2) ≥ NAD (C2,V)\n",
        "\n",
        "    #VC1C2\n",
        "    #NAD (V,C1) ≤ NAD (C1,C2)\n",
        "\n",
        "    #V1C1C2V2\n",
        "    #NAD (V1,C1) ≥ NAD (C1,C2) < NAD (C2,V2)\n",
        "\n",
        "    #*NAD (C1,C2) > 0\n",
        "\n",
        "    #C1C2C3V\n",
        "    #NAD (C1,C2) < NAD (C2,C3) ≥ NAD (C3,V)\n",
        "\n",
        "    #VC1C2C3\n",
        "    #NAD (V,C1) ≤ NAD (C1,C2) > NAD (C2,C3)\n",
        "\n",
        "    #V1C1C2C3V2\n",
        "    #NAD (V,C1) ≥ NAD (C1,C2) & NAD (C2,C3) < (C3,V2)\n",
        "\n",
        "    #Calculation:\n",
        "    #NAD CC = |(MOA1 − MOA2)| + |(POA1 − POA2)|\n",
        "    #NAD CV = |MOA1 − MOA2|\n",
        "    #e.g., prV in Polish\n",
        "    #pr: |(MOA1 − MOA2)| + |(POA1 − POA2)|\n",
        "    #|5 − 2| + |1 − 2.3| = |3| + |1.3| = 4.3\n",
        "    #so, NAD CC = 4.3\n",
        "    #rV: |MOA1 − MOA2| = |2 − 0| = 2\n",
        "    #NAD CV = 2\n",
        "    #so, NAD CC − NAD CV = 2.3\n",
        "    #so, the preference NAD (C1,C2) ≥ NAD (C2,V) is observed since 4.3. > 2.3\n",
        "\n",
        "    # iterate through the message (but need to make sure that it takes 15 as 15\n",
        "    # and not 1 and 5, is there anything else to add to do that?): done!\n",
        "    letters=[]\n",
        "    for i in range(len(message)):\n",
        "        print(\"letter \", i, \": \", message[i])\n",
        "        letters.append(message[i])\n",
        "\n",
        "    word_nad=[]\n",
        "    for j in range(len(letters)):\n",
        "        if j==0:\n",
        "            continue\n",
        "        else:\n",
        "\n",
        "            # =====\n",
        "            # Two adjacent letters\n",
        "            # =====\n",
        "            letter1 = letters[j-1]\n",
        "            letter2 = letters[j]\n",
        "\n",
        "            # =====\n",
        "            # indexes of keys and values\n",
        "            # =====\n",
        "            key = 0\n",
        "            value = 1\n",
        "\n",
        "            #the idea with C1[keys] is to get the keys from above that matches\n",
        "            #the i, can you help too? haha) done!\n",
        "            #calculated from NAD(CC)=|(MOA1 − MOA2)| + |(POA1 − POA2)|\n",
        "            \n",
        "            # ======\n",
        "            # Here i just called NAD(letters[k,j]) \"nad\" which is just a\n",
        "            # variable, because otherwise it will be mistaken with the name of\n",
        "            # the function itself and would be considered a recursive function\n",
        "            # ======\n",
        "            \n",
        "            # if (letter1 < 26) and (letter2 < 26):  #The case when the two\n",
        "            # letters are consonents\n",
        "            \n",
        "            #   nad = abs(Cs[letter1][key]-Cs[letter2][key]) + abs(Cs[letter1][value]-Cs[letter2][value])\n",
        "            \n",
        "            # else: #if at least one of them is a vowel\n",
        "            \n",
        "            #   nad = abs(Cs[letter1][key]-Cs[letter2][key])\n",
        "            \n",
        "            # word_nad.append(nad)\n",
        "\n",
        "        #I think we need to encode the preferences as well otherwise it's not going to make sense because the important thing is not the value, it's whether the value is > or < than another value\n",
        "        #So maybe we can say something like: if in the first two letters: NAD (C1,C2) IS NOT ≥ NAD (C2,V) (i.e. the contrary to the preference), add 1, do this for all the preferences and add the total score, then penalize by the higher score\n",
        "        #I'm not sure where to introduce this, but it would be something like: if nad[0]>nad[1]\n",
        "\n",
        "            # ======\n",
        "            # attempt: enforcing NAD(C1,C2) = max(NAD(C1,V),NAD(C2,V)) + 1\n",
        "            # ======\n",
        "\n",
        "            if (letter1 < 26) and (letter2 < 26):  #The case when the two letters are consonents\n",
        "            \n",
        "                nad = abs(Cs[letter1][key]-Cs[letter2][key]) + abs(Cs[letter1][value]-Cs[letter2][value])\n",
        "\n",
        "                #Now before going further verify the preferences profile and enforce NAD(C1,C2) = max(NAD(C1,V),NAD(C2,V)) + 1 (V doesnt matter which as they all have MOA = 0)\n",
        "\n",
        "                # Compute NAD(C1,V) and NAD(C2,V) with V=35 a random vowel\n",
        "                nad_C1V = abs(Cs[letter1][key]-Cs[35][key])\n",
        "                nad_C2V = abs(Cs[letter2][key]-Cs[35][key])\n",
        "\n",
        "                if (nad <= nad_C1V) or (nad <= nad_C2V):\n",
        "                    m = max(nad_C1V, nad_C2V)\n",
        "                    nad = nad + (m - nad + 1) \n",
        "           #shouldn't the line below be less indented?     \n",
        "            else: #if at least one of them is a vowel\n",
        "                \n",
        "                nad = abs(Cs[letter1][key]-Cs[letter2][key])\n",
        "            \n",
        "            word_nad.append(nad)\n",
        "\n",
        "    return sum(word_nad)/len(word_nad)\n",
        "\n",
        "    #return None"
      ],
      "execution_count": null,
      "outputs": []
    },
    {
      "cell_type": "code",
      "metadata": {
        "id": "5XsD3ZYisHvx"
      },
      "source": [
        "# =====\n",
        "#example: the score of CCV is bigger which is not expected i guess (need to specify formula for CV in the above function i think)\n",
        "# =====\n",
        "\n",
        "message = [4,15,6,27,3]\n",
        "score = NAD(message)\n",
        "print(\"average score: \", score)\n",
        "\n",
        "CC = [4,15]\n",
        "score_CC = NAD(CC)\n",
        "print(\"average score CC: \", score_CC)\n",
        "\n",
        "CV = [4,37]\n",
        "score_CV = NAD(CV)\n",
        "print(\"average score CV: \", score_CV)"
      ],
      "execution_count": null,
      "outputs": []
    },
    {
      "cell_type": "markdown",
      "metadata": {
        "id": "3DxWiaH-19HB"
      },
      "source": [
        "# Phonems co-occurence based on english corpus"
      ]
    },
    {
      "cell_type": "markdown",
      "metadata": {
        "id": "dgkyU-_AGYoe"
      },
      "source": [
        "Dataset dowloaded from: \\\\\n",
        "https://www.kaggle.com/jrobischon/wikipedia-movie-plots"
      ]
    },
    {
      "cell_type": "code",
      "metadata": {
        "colab": {
          "base_uri": "https://localhost:8080/"
        },
        "id": "Un6u9JIM2WWY",
        "outputId": "5771055e-c331-4c74-b453-199ffcf6f012"
      },
      "source": [
        "!git clone https://github.com/mathformoso/LazImpa.git"
      ],
      "execution_count": null,
      "outputs": [
        {
          "output_type": "stream",
          "text": [
            "Cloning into 'LazImpa'...\n",
            "remote: Enumerating objects: 6, done.\u001b[K\n",
            "remote: Counting objects: 100% (6/6), done.\u001b[K\n",
            "remote: Compressing objects: 100% (4/4), done.\u001b[K\n",
            "remote: Total 6 (delta 0), reused 0 (delta 0), pack-reused 0\u001b[K\n",
            "Unpacking objects: 100% (6/6), done.\n"
          ],
          "name": "stdout"
        }
      ]
    },
    {
      "cell_type": "code",
      "metadata": {
        "id": "Xis4k_BTqrsW"
      },
      "source": [
        "import numpy as np\n",
        "import matplotlib.pyplot as plt\n",
        "import pickle"
      ],
      "execution_count": null,
      "outputs": []
    },
    {
      "cell_type": "markdown",
      "metadata": {
        "id": "8d9Lc6Y_Ht01"
      },
      "source": [
        "Entrées du dictionnaire:: \\\\\n",
        "co_occurence: matrice 84x84 des co_occurences d'un phoneme donné dans un voisinage de longueur 1 dans le corpus de texte. \\\\\n",
        "keys: list des phonemes (ordre des lignes et colonnes de la matrice co_occurences \\\\\n",
        "occurrences: nb d'apparitions d'un phoneme donné dans le corpus. \\\\\n",
        "Note: les occurences sont triées par fréquence d'apparition"
      ]
    },
    {
      "cell_type": "code",
      "metadata": {
        "colab": {
          "base_uri": "https://localhost:8080/"
        },
        "id": "g5AGuTr0G1h3",
        "outputId": "efde12f4-f11e-4269-c1ce-879fdf0902c4"
      },
      "source": [
        "pickle_in = open(\"./LazImpa/data.pkl\",\"rb\")\n",
        "example_dict = pickle.load(pickle_in)\n",
        "print(example_dict['co_occurences'])\n",
        "print(example_dict['occurences'])\n",
        "print(example_dict['keys'])"
      ],
      "execution_count": null,
      "outputs": [
        {
          "output_type": "stream",
          "text": [
            "[[0.01172636 0.02363043 0.3232946  ... 0.         0.         0.        ]\n",
            " [0.02700895 0.02007398 0.08877153 ... 0.         0.         0.        ]\n",
            " [0.53198117 0.12780136 0.02163906 ... 0.         0.         0.        ]\n",
            " ...\n",
            " [0.         0.         0.         ... 0.         0.         0.        ]\n",
            " [0.         0.         0.         ... 0.         0.         0.        ]\n",
            " [0.         0.         0.         ... 0.         0.         0.        ]]\n",
            "(827196, 723723, 502702, 483139, 448927, 311407, 281084, 276143, 250281, 246972, 201915, 194400, 183039, 157596, 157432, 156262, 140036, 133893, 130956, 130655, 123137, 118943, 110139, 105357, 99767, 98797, 91318, 80769, 73019, 70063, 51910, 51638, 37381, 30504, 27987, 12784, 7045, 1843, 1166, 872, 536, 63, 61, 53, 35, 34, 34, 31, 28, 13, 12, 12, 7, 7, 7, 7, 5, 4, 4, 4, 3, 3, 2, 2, 2, 2, 2, 2, 2, 2, 2, 1, 1, 1, 1, 1, 1, 1, 1, 1, 1, 1, 1, 1)\n",
            "('ə', 'ɪ', 'r', 'n', 't', 's', 'l', 'd', 'i', 'z', 'k', 'm', 'ɛ', 'ð', 'h', 'a', 'e', 'b', 'p', 'f', 'ʊ', 'æ', 'v', 'w', 'ɔ', 'o', 'ɑ', 'u', 'ŋ', 'g', 'ʤ', 'ʃ', 'θ', 'ʧ', 'j', 'c', 'y', 'ʒ', 'é', 'x', 'q', 'è', 'á', 'ñ', 'í', 'ć', 'ç', 'ü', 'ö', 'â', 'ï', 'ä', 'ú', 'ó', 'ê', 'à', 'ë', 'с', 'š', 'ô', 'ō', '½', 'ј', 'т', 'р', 'о', 'м', 'е', 'œ', 'û', 'ß', '裕', '紘', '宇', '八', '仁', '一', '⅞', 'ʻ', 'ž', 'ŭ', 'ā', 'ø', 'ã')\n"
          ],
          "name": "stdout"
        }
      ]
    },
    {
      "cell_type": "markdown",
      "metadata": {
        "id": "yUENQ8ngUViO"
      },
      "source": [
        "##English analysis"
      ]
    },
    {
      "cell_type": "code",
      "metadata": {
        "colab": {
          "base_uri": "https://localhost:8080/",
          "height": 298
        },
        "id": "GwuTD6mYu06f",
        "outputId": "7b7ae0c6-4f62-496f-a6fe-37914e40119f"
      },
      "source": [
        "cut = 35\n",
        "plt.bar(x = example_dict['keys'][:cut], height = example_dict['occurences'][:cut])\n",
        "plt.title('Top 38 phonems frequencies in english')"
      ],
      "execution_count": null,
      "outputs": [
        {
          "output_type": "execute_result",
          "data": {
            "text/plain": [
              "Text(0.5, 1.0, 'Top 38 phonems frequencies in english')"
            ]
          },
          "metadata": {
            "tags": []
          },
          "execution_count": 5
        },
        {
          "output_type": "display_data",
          "data": {
            "image/png": "[encoded data removed]",
            "text/plain": [
              "<Figure size 432x288 with 1 Axes>"
            ]
          },
          "metadata": {
            "tags": [],
            "needs_background": "light"
          }
        }
      ]
    },
    {
      "cell_type": "code",
      "metadata": {
        "colab": {
          "base_uri": "https://localhost:8080/",
          "height": 285
        },
        "id": "f7zdHRTCxhF1",
        "outputId": "0c970a5d-1887-4751-8841-cd2cebc0b756"
      },
      "source": [
        "plt.imshow(example_dict['co_occurences'])"
      ],
      "execution_count": null,
      "outputs": [
        {
          "output_type": "execute_result",
          "data": {
            "text/plain": [
              "<matplotlib.image.AxesImage at 0x7ff4040376d0>"
            ]
          },
          "metadata": {
            "tags": []
          },
          "execution_count": 6
        },
        {
          "output_type": "display_data",
          "data": {
            "image/png": "[encoded data removed]",
            "text/plain": [
              "<Figure size 432x288 with 1 Axes>"
            ]
          },
          "metadata": {
            "tags": [],
            "needs_background": "light"
          }
        }
      ]
    },
    {
      "cell_type": "code",
      "metadata": {
        "colab": {
          "base_uri": "https://localhost:8080/"
        },
        "id": "-A5AyslorI8v",
        "outputId": "06eecc82-e4c4-43f3-adfa-9affdb08fb13"
      },
      "source": [
        "Cs_list = [\n",
        "    (5,1), #C1\n",
        "    (5,1), #C2\n",
        "    (5,2), #C3\n",
        "    (5,2), #C4          \n",
        "    (5,3.5), #C5\n",
        "    (5,3.5), #C6\n",
        "    (5,5), #C7\n",
        "    (4.5,2.5), #C8\n",
        "    (4.5,2.5), #C9\n",
        "    (4,1.3), #C10\n",
        "    (4,1.3), #C11\n",
        "    (4,1.6), #C12\n",
        "    (4,1.6), #C13\n",
        "    (4,2), #C14\n",
        "    (4,2), #C15\n",
        "    (4,2.5), #C16\n",
        "    (4,2.5), #C17\n",
        "    (4,5), #C18\n",
        "    (3,1), #C19\n",
        "    (3,2), #C20\n",
        "    (3,3.5), #C21\n",
        "    (2.5,2), #C22\n",
        "    (2,2.5), #C23\n",
        "    (1,1), #C24\n",
        "    (1,3), #C25\n",
        "    (1,3.5), #C26\n",
        "    (0,0), #C27\n",
        "    (0,0), #C28\n",
        "    (0,0), #C29\n",
        "    (0,0), #C30\n",
        "    (0,0), #C31\n",
        "    (0,0), #C32\n",
        "    (0,0), #C33\n",
        "    (0,0), #C34\n",
        "    (0,0), #C35\n",
        "    (0,0), #C36\n",
        "    (0,0), #C37\n",
        "    (0,0), #C38\n",
        "    (0,0), #C39\n",
        "    (0,0), #C40\n",
        "]\n",
        "\n",
        "print(len(Cs_list))\n"
      ],
      "execution_count": null,
      "outputs": [
        {
          "output_type": "stream",
          "text": [
            "40\n"
          ],
          "name": "stdout"
        }
      ]
    },
    {
      "cell_type": "code",
      "metadata": {
        "id": "Y5EG1Ckz3YAY"
      },
      "source": [
        "#map2 from phonems to groups\n",
        "keys = example_dict['keys']\n",
        "map2 = [('ə', 18), ('ɪ', 18), ('r', 14), ('n', 11), ('t', 1), ('s', 7), ('l', 13), ('d',1), ('i',18), ('z',7), ('k',2), ('m',10), ('ɛ',18),\n",
        "        ('ð',6), ('h',9), ('a', 18), ('e', 18), ('b', 0),('p', 0), ('f', 5), ('ʊ', 18), ('æ', 18), ('v',5), ('w',15),('ɔ',18),('o',18),\n",
        "        ('ɑ',18),('u',18),('ŋ',12),('g', 2),('ʤ',4),('ʃ',8),('θ',6),('ʧ',4),('j',16),('ʒ',8), ('r_',3), ('w_',17)]\n",
        "dmap2 = {}\n",
        "for e in map2:\n",
        "    dmap2[e[0]] = e[1]"
      ],
      "execution_count": null,
      "outputs": []
    },
    {
      "cell_type": "code",
      "metadata": {
        "colab": {
          "base_uri": "https://localhost:8080/"
        },
        "id": "zahv8qom-A3c",
        "outputId": "c83ac451-7115-4013-f271-6086154a1d65"
      },
      "source": [
        "str_keys = []\n",
        "for i in range(19):\n",
        "    str = \"\"\n",
        "    for tup in map2:\n",
        "        if tup[1] == i:\n",
        "            str+=tup[0]+'.'\n",
        "    str_keys.append(str[:-1])\n",
        "str_keys = np.array(str_keys)\n",
        "print(str_keys)"
      ],
      "execution_count": null,
      "outputs": [
        {
          "output_type": "stream",
          "text": [
            "['b.p' 't.d' 'k.g' 'r_' 'ʤ.ʧ' 'f.v' 'ð.θ' 's.z' 'ʃ.ʒ' 'h' 'm' 'n' 'ŋ' 'l'\n",
            " 'r' 'w' 'j' 'w_' 'ə.ɪ.i.ɛ.a.e.ʊ.æ.ɔ.o.ɑ.u']\n"
          ],
          "name": "stdout"
        }
      ]
    },
    {
      "cell_type": "code",
      "metadata": {
        "colab": {
          "base_uri": "https://localhost:8080/"
        },
        "id": "fBlL18pvzIVg",
        "outputId": "9a830b23-3de4-4aaa-fe34-2824e5a6d1de"
      },
      "source": [
        "phonems = np.array(example_dict['keys'][:cut])\n",
        "print(phonems)"
      ],
      "execution_count": null,
      "outputs": [
        {
          "output_type": "stream",
          "text": [
            "['ə' 'ɪ' 'r' 'n' 't' 's' 'l' 'd' 'i' 'z' 'k' 'm' 'ɛ' 'ð' 'h' 'a' 'e' 'b'\n",
            " 'p' 'f' 'ʊ' 'æ' 'v' 'w' 'ɔ' 'o' 'ɑ' 'u' 'ŋ' 'g' 'ʤ' 'ʃ' 'θ' 'ʧ' 'j']\n"
          ],
          "name": "stdout"
        }
      ]
    },
    {
      "cell_type": "code",
      "metadata": {
        "id": "ne5eZ30UuiOZ",
        "colab": {
          "base_uri": "https://localhost:8080/"
        },
        "outputId": "e7a3364d-20dd-40b0-b94f-8020fbd04fe2"
      },
      "source": [
        "grps = np.array([dmap2[f] for f in phonems])\n",
        "print(grps)\n",
        "grps_keys = np.unique(grps)\n",
        "print(grps_keys)"
      ],
      "execution_count": null,
      "outputs": [
        {
          "output_type": "stream",
          "text": [
            "[18 18 14 11  1  7 13  1 18  7  2 10 18  6  9 18 18  0  0  5 18 18  5 15\n",
            " 18 18 18 18 12  2  4  8  6  4 16]\n",
            "[ 0  1  2  4  5  6  7  8  9 10 11 12 13 14 15 16 18]\n"
          ],
          "name": "stdout"
        }
      ]
    },
    {
      "cell_type": "code",
      "metadata": {
        "colab": {
          "base_uri": "https://localhost:8080/",
          "height": 412
        },
        "id": "WKilZWk55H7s",
        "outputId": "a5ad288d-d4cc-4e93-fda9-445666c6e2db"
      },
      "source": [
        "tmp = np.array( example_dict['occurences'][:cut] )\n",
        "n = np.sum(tmp)\n",
        "data = np.array( [np.sum(tmp[grps == i]) for i in range(19)] )\n",
        "plt.bar(x = str_keys, height = data/n)\n",
        "plt.title('Phonems freq. in english grouped by NAD cluster')\n",
        "plt.xticks(rotation=90)"
      ],
      "execution_count": null,
      "outputs": [
        {
          "output_type": "execute_result",
          "data": {
            "text/plain": [
              "([0, 1, 2, 3, 4, 5, 6, 7, 8, 9, 10, 11, 12, 13, 14, 15, 16, 17, 18],\n",
              " <a list of 19 Text major ticklabel objects>)"
            ]
          },
          "metadata": {
            "tags": []
          },
          "execution_count": 12
        },
        {
          "output_type": "display_data",
          "data": {
            "image/png": "[encoded data removed]",
            "text/plain": [
              "<Figure size 432x288 with 1 Axes>"
            ]
          },
          "metadata": {
            "tags": [],
            "needs_background": "light"
          }
        }
      ]
    },
    {
      "cell_type": "code",
      "metadata": {
        "colab": {
          "base_uri": "https://localhost:8080/",
          "height": 1000
        },
        "id": "9CX1PnvE9EGO",
        "outputId": "37efa2e0-7cbd-45f5-98b2-7a278941e687"
      },
      "source": [
        "tmp = example_dict['co_occurences'][:cut,:cut]\n",
        "data = np.zeros((19,19))\n",
        "for i in range(19):\n",
        "    for j in range(19):\n",
        "        hslice = np.sum(tmp[grps == i,:], axis = 0)\n",
        "        vslice = np.sum(hslice[grps == j])\n",
        "        data[i,j] = vslice\n",
        "plt.matshow(data, cmap=plt.cm.Blues)\n",
        "plt.xticks(np.arange(19), str_keys, rotation=90)\n",
        "plt.yticks(np.arange(19), str_keys)\n",
        "#plt.title('Co-occurences in english grouped by NAD cluster')"
      ],
      "execution_count": null,
      "outputs": [
        {
          "output_type": "execute_result",
          "data": {
            "text/plain": [
              "([<matplotlib.axis.YTick at 0x7ff40324cf10>,\n",
              "  <matplotlib.axis.YTick at 0x7ff40324c490>,\n",
              "  <matplotlib.axis.YTick at 0x7ff40324c090>,\n",
              "  <matplotlib.axis.YTick at 0x7ff40321a490>,\n",
              "  <matplotlib.axis.YTick at 0x7ff40321a9d0>,\n",
              "  <matplotlib.axis.YTick at 0x7ff40321af10>,\n",
              "  <matplotlib.axis.YTick at 0x7ff4032214d0>,\n",
              "  <matplotlib.axis.YTick at 0x7ff403221a10>,\n",
              "  <matplotlib.axis.YTick at 0x7ff4032218d0>,\n",
              "  <matplotlib.axis.YTick at 0x7ff40321aa90>,\n",
              "  <matplotlib.axis.YTick at 0x7ff403212510>,\n",
              "  <matplotlib.axis.YTick at 0x7ff40322c0d0>,\n",
              "  <matplotlib.axis.YTick at 0x7ff40322c6d0>,\n",
              "  <matplotlib.axis.YTick at 0x7ff40322cc10>,\n",
              "  <matplotlib.axis.YTick at 0x7ff4032330d0>,\n",
              "  <matplotlib.axis.YTick at 0x7ff4032336d0>,\n",
              "  <matplotlib.axis.YTick at 0x7ff403233c10>,\n",
              "  <matplotlib.axis.YTick at 0x7ff40323c0d0>,\n",
              "  <matplotlib.axis.YTick at 0x7ff403233990>],\n",
              " [Text(0, 0, 'b.p'),\n",
              "  Text(0, 0, 't.d'),\n",
              "  Text(0, 0, 'k.g'),\n",
              "  Text(0, 0, 'r_'),\n",
              "  Text(0, 0, 'ʤ.ʧ'),\n",
              "  Text(0, 0, 'f.v'),\n",
              "  Text(0, 0, 'ð.θ'),\n",
              "  Text(0, 0, 's.z'),\n",
              "  Text(0, 0, 'ʃ.ʒ'),\n",
              "  Text(0, 0, 'h'),\n",
              "  Text(0, 0, 'm'),\n",
              "  Text(0, 0, 'n'),\n",
              "  Text(0, 0, 'ŋ'),\n",
              "  Text(0, 0, 'l'),\n",
              "  Text(0, 0, 'r'),\n",
              "  Text(0, 0, 'w'),\n",
              "  Text(0, 0, 'j'),\n",
              "  Text(0, 0, 'w_'),\n",
              "  Text(0, 0, 'ə.ɪ.i.ɛ.a.e.ʊ.æ.ɔ.o.ɑ.u')])"
            ]
          },
          "metadata": {
            "tags": []
          },
          "execution_count": 13
        },
        {
          "output_type": "display_data",
          "data": {
            "image/png": "[encoded data removed]",
            "text/plain": [
              "<Figure size 288x288 with 1 Axes>"
            ]
          },
          "metadata": {
            "tags": [],
            "needs_background": "light"
          }
        }
      ]
    },
    {
      "cell_type": "code",
      "metadata": {
        "colab": {
          "base_uri": "https://localhost:8080/",
          "height": 896
        },
        "id": "pxa8SOpEGmPO",
        "outputId": "3eab6ecf-f27a-459b-a6cf-38d83eda0923"
      },
      "source": [
        "tmp = example_dict['co_occurences'][:cut,:cut]\n",
        "data = np.zeros((18,18))\n",
        "for i in range(18):\n",
        "    for j in range(18):\n",
        "        hslice = np.sum(tmp[grps == i,:], axis = 0)\n",
        "        vslice = np.sum(hslice[grps == j])\n",
        "        data[i,j] = vslice\n",
        "plt.matshow(data, cmap=plt.cm.Blues)\n",
        "plt.xticks(np.arange(18), str_keys, rotation=90)\n",
        "plt.yticks(np.arange(18), str_keys)"
      ],
      "execution_count": null,
      "outputs": [
        {
          "output_type": "execute_result",
          "data": {
            "text/plain": [
              "([<matplotlib.axis.YTick at 0x7ff40318e510>,\n",
              "  <matplotlib.axis.YTick at 0x7ff40318ad50>,\n",
              "  <matplotlib.axis.YTick at 0x7ff40318a590>,\n",
              "  <matplotlib.axis.YTick at 0x7ff40315a290>,\n",
              "  <matplotlib.axis.YTick at 0x7ff40315a750>,\n",
              "  <matplotlib.axis.YTick at 0x7ff40315ac90>,\n",
              "  <matplotlib.axis.YTick at 0x7ff4031622d0>,\n",
              "  <matplotlib.axis.YTick at 0x7ff403162790>,\n",
              "  <matplotlib.axis.YTick at 0x7ff403162cd0>,\n",
              "  <matplotlib.axis.YTick at 0x7ff4031682d0>,\n",
              "  <matplotlib.axis.YTick at 0x7ff403162850>,\n",
              "  <matplotlib.axis.YTick at 0x7ff403152450>,\n",
              "  <matplotlib.axis.YTick at 0x7ff403168290>,\n",
              "  <matplotlib.axis.YTick at 0x7ff403168910>,\n",
              "  <matplotlib.axis.YTick at 0x7ff403168e50>,\n",
              "  <matplotlib.axis.YTick at 0x7ff4031733d0>,\n",
              "  <matplotlib.axis.YTick at 0x7ff403173910>,\n",
              "  <matplotlib.axis.YTick at 0x7ff403173e50>],\n",
              " [Text(0, 0, 'b.p'),\n",
              "  Text(0, 0, 't.d'),\n",
              "  Text(0, 0, 'k.g'),\n",
              "  Text(0, 0, 'r_'),\n",
              "  Text(0, 0, 'ʤ.ʧ'),\n",
              "  Text(0, 0, 'f.v'),\n",
              "  Text(0, 0, 'ð.θ'),\n",
              "  Text(0, 0, 's.z'),\n",
              "  Text(0, 0, 'ʃ.ʒ'),\n",
              "  Text(0, 0, 'h'),\n",
              "  Text(0, 0, 'm'),\n",
              "  Text(0, 0, 'n'),\n",
              "  Text(0, 0, 'ŋ'),\n",
              "  Text(0, 0, 'l'),\n",
              "  Text(0, 0, 'r'),\n",
              "  Text(0, 0, 'w'),\n",
              "  Text(0, 0, 'j'),\n",
              "  Text(0, 0, 'w_')])"
            ]
          },
          "metadata": {
            "tags": []
          },
          "execution_count": 14
        },
        {
          "output_type": "display_data",
          "data": {
            "image/png": "[encoded data removed]",
            "text/plain": [
              "<Figure size 288x288 with 1 Axes>"
            ]
          },
          "metadata": {
            "tags": [],
            "needs_background": "light"
          }
        }
      ]
    },
    {
      "cell_type": "markdown",
      "metadata": {
        "id": "m2qZCXEjud1Y"
      },
      "source": [
        "##NAD no impatient analysis"
      ]
    },
    {
      "cell_type": "code",
      "metadata": {
        "colab": {
          "base_uri": "https://localhost:8080/"
        },
        "id": "4mwVb-bBp-3d",
        "outputId": "49b4cfa7-9bd3-44ff-bb0f-5e8a655fbcda"
      },
      "source": [
        "messages = np.load('Lazimpa/experiments/dir_save_not_impatient_nad_1e-2/messages/messages_500.npy', allow_pickle=True)\n",
        "print(messages)\n",
        "print(len(messages))"
      ],
      "execution_count": null,
      "outputs": [
        {
          "output_type": "stream",
          "text": [
            "[array([0]) array([32,  0]) array([37,  0]) array([39, 12,  0])\n",
            " array([28,  9,  0]) array([37, 37,  0]) array([37, 32,  0])\n",
            " array([37,  9,  0]) array([37, 13,  0]) array([37, 28,  0])\n",
            " array([30,  0]) array([22,  0]) array([31, 22,  0]) array([37, 30,  0])\n",
            " array([27,  0]) array([27, 20,  0]) array([12,  0]) array([ 3, 32,  0])\n",
            " array([3, 3, 0]) array([19,  8,  0]) array([35, 22,  0]) array([36,  0])\n",
            " array([19, 28,  0]) array([21, 13,  0]) array([23, 15,  0])\n",
            " array([14,  0]) array([8, 4, 0]) array([16, 13,  3,  0])\n",
            " array([35,  3,  0]) array([11, 20,  0]) array([28,  0])\n",
            " array([17,  4,  0]) array([11,  0]) array([36, 36,  0])\n",
            " array([15, 32,  0]) array([35, 32,  0]) array([16, 26,  0])\n",
            " array([15,  3,  0]) array([3, 9, 0]) array([17,  0])\n",
            " array([23, 15, 32,  0]) array([ 3, 26,  0]) array([ 3, 15,  0])\n",
            " array([17, 28,  0]) array([31, 13,  0]) array([ 3, 28,  0])\n",
            " array([33, 18,  0]) array([22, 22,  0]) array([14, 12,  0])\n",
            " array([15, 26,  0]) array([26, 33,  0]) array([17, 30,  0])\n",
            " array([ 7, 21,  0]) array([20, 32, 32,  0]) array([ 3, 17,  0])\n",
            " array([11,  4,  0]) array([4, 0]) array([33,  8,  0]) array([6, 8, 0])\n",
            " array([14, 28,  0]) array([ 3, 37,  0]) array([11,  8,  0])\n",
            " array([20, 33,  0]) array([23,  8,  0]) array([14, 17,  0])\n",
            " array([17, 26,  0]) array([ 9, 26,  0]) array([20, 23, 32,  0])\n",
            " array([18, 33, 32,  0]) array([17, 20,  3,  0]) array([ 4, 33,  0])\n",
            " array([6, 5, 0]) array([15, 28,  0]) array([ 3,  4, 25,  0])\n",
            " array([ 8, 33,  0]) array([17, 29, 16,  0]) array([14, 36,  5,  0])\n",
            " array([7, 4, 0]) array([ 9, 13,  0]) array([14,  9, 17,  0])\n",
            " array([31,  4,  0]) array([ 7, 11,  0]) array([ 4, 32,  0])\n",
            " array([31,  3,  0]) array([14, 13,  9,  0]) array([ 3, 26, 32,  0])\n",
            " array([4, 3, 0]) array([ 3, 32, 32,  0]) array([17,  2, 38,  0])\n",
            " array([ 4, 23, 22,  0]) array([14, 27, 20,  0]) array([20, 22,  0])\n",
            " array([4, 6, 0]) array([16, 18,  0]) array([17, 11, 18,  0])\n",
            " array([23, 20,  9,  0]) array([14, 23,  0]) array([ 3, 32, 32,  0])\n",
            " array([ 4, 22,  0]) array([15, 38, 33,  0])]\n",
            "100\n"
          ],
          "name": "stdout"
        }
      ]
    },
    {
      "cell_type": "code",
      "metadata": {
        "colab": {
          "base_uri": "https://localhost:8080/"
        },
        "id": "KSip76uE11M_",
        "outputId": "7cdf3c1c-80be-4fbc-88e3-3599c7ea9cc7"
      },
      "source": [
        "#cluster consonants and vowels\n",
        "#map1 from symbols to groups\n",
        "idx, grp = 0, -1\n",
        "aset = set()\n",
        "map1 = []\n",
        "for tup in Cs_list:\n",
        "    if tup not in aset:\n",
        "        grp+=1\n",
        "    map1.append((idx,grp))\n",
        "    idx+=1\n",
        "    aset.add(tup)\n",
        "\n",
        "dmap1 = {}\n",
        "for e in map1:\n",
        "    dmap1[e[0]] = e[1]\n",
        "print(dmap1)"
      ],
      "execution_count": null,
      "outputs": [
        {
          "output_type": "stream",
          "text": [
            "{0: 0, 1: 0, 2: 1, 3: 1, 4: 2, 5: 2, 6: 3, 7: 4, 8: 4, 9: 5, 10: 5, 11: 6, 12: 6, 13: 7, 14: 7, 15: 8, 16: 8, 17: 9, 18: 10, 19: 11, 20: 12, 21: 13, 22: 14, 23: 15, 24: 16, 25: 17, 26: 18, 27: 18, 28: 18, 29: 18, 30: 18, 31: 18, 32: 18, 33: 18, 34: 18, 35: 18, 36: 18, 37: 18, 38: 18, 39: 18}\n"
          ],
          "name": "stdout"
        }
      ]
    },
    {
      "cell_type": "code",
      "metadata": {
        "colab": {
          "base_uri": "https://localhost:8080/"
        },
        "id": "axCadix7tocw",
        "outputId": "c7064e58-8d18-49e6-926c-23f334701c02"
      },
      "source": [
        "#translate messages to group ids\n",
        "translated_messages = []\n",
        "for m in messages:\n",
        "    translated_messages.append( [ dmap1[l] for l in m] )\n",
        "print(translated_messages)"
      ],
      "execution_count": null,
      "outputs": [
        {
          "output_type": "stream",
          "text": [
            "[[0], [18, 0], [18, 0], [18, 6, 0], [18, 5, 0], [18, 18, 0], [18, 18, 0], [18, 5, 0], [18, 7, 0], [18, 18, 0], [18, 0], [14, 0], [18, 14, 0], [18, 18, 0], [18, 0], [18, 12, 0], [6, 0], [1, 18, 0], [1, 1, 0], [11, 4, 0], [18, 14, 0], [18, 0], [11, 18, 0], [13, 7, 0], [15, 8, 0], [7, 0], [4, 2, 0], [8, 7, 1, 0], [18, 1, 0], [6, 12, 0], [18, 0], [9, 2, 0], [6, 0], [18, 18, 0], [8, 18, 0], [18, 18, 0], [8, 18, 0], [8, 1, 0], [1, 5, 0], [9, 0], [15, 8, 18, 0], [1, 18, 0], [1, 8, 0], [9, 18, 0], [18, 7, 0], [1, 18, 0], [18, 10, 0], [14, 14, 0], [7, 6, 0], [8, 18, 0], [18, 18, 0], [9, 18, 0], [4, 13, 0], [12, 18, 18, 0], [1, 9, 0], [6, 2, 0], [2, 0], [18, 4, 0], [3, 4, 0], [7, 18, 0], [1, 18, 0], [6, 4, 0], [12, 18, 0], [15, 4, 0], [7, 9, 0], [9, 18, 0], [5, 18, 0], [12, 15, 18, 0], [10, 18, 18, 0], [9, 12, 1, 0], [2, 18, 0], [3, 2, 0], [8, 18, 0], [1, 2, 17, 0], [4, 18, 0], [9, 18, 8, 0], [7, 18, 2, 0], [4, 2, 0], [5, 7, 0], [7, 5, 9, 0], [18, 2, 0], [4, 6, 0], [2, 18, 0], [18, 1, 0], [7, 7, 5, 0], [1, 18, 18, 0], [2, 1, 0], [1, 18, 18, 0], [9, 1, 18, 0], [2, 15, 14, 0], [7, 18, 12, 0], [12, 14, 0], [2, 3, 0], [8, 10, 0], [9, 6, 10, 0], [15, 12, 5, 0], [7, 15, 0], [1, 18, 18, 0], [2, 14, 0], [8, 18, 18, 0]]\n"
          ],
          "name": "stdout"
        }
      ]
    },
    {
      "cell_type": "code",
      "metadata": {
        "colab": {
          "base_uri": "https://localhost:8080/"
        },
        "id": "zY-6vtOkzGXn",
        "outputId": "e4e57515-ca09-4150-9938-42fa88a6dd2e"
      },
      "source": [
        "mean_len = 0\n",
        "for m in translated_messages:\n",
        "    mean_len += len(m)\n",
        "mean_len = mean_len / len(translated_messages)\n",
        "print(mean_len)"
      ],
      "execution_count": null,
      "outputs": [
        {
          "output_type": "stream",
          "text": [
            "3.06\n"
          ],
          "name": "stdout"
        }
      ]
    },
    {
      "cell_type": "markdown",
      "metadata": {
        "id": "GBuvTRSDOP-G"
      },
      "source": [
        "### Translate encoded messages to phonems"
      ]
    },
    {
      "cell_type": "code",
      "metadata": {
        "colab": {
          "base_uri": "https://localhost:8080/"
        },
        "id": "VKFlivaTIkTW",
        "outputId": "f00108e5-5dfe-4b4b-aad5-720f554d72f0"
      },
      "source": [
        "#from groups to phonems\n",
        "inverse_dict = {}\n",
        "for tup in map2:\n",
        "    if tup[1] not in inverse_dict:\n",
        "        inverse_dict[tup[1]] = [tup[0]]\n",
        "    else:\n",
        "        inverse_dict[tup[1]].append(tup[0])\n",
        "\n",
        "print(inverse_dict)"
      ],
      "execution_count": null,
      "outputs": [
        {
          "output_type": "stream",
          "text": [
            "{18: ['ə', 'ɪ', 'i', 'ɛ', 'a', 'e', 'ʊ', 'æ', 'ɔ', 'o', 'ɑ', 'u'], 14: ['r'], 11: ['n'], 1: ['t', 'd'], 7: ['s', 'z'], 13: ['l'], 2: ['k', 'g'], 10: ['m'], 6: ['ð', 'θ'], 9: ['h'], 0: ['b', 'p'], 5: ['f', 'v'], 15: ['w'], 12: ['ŋ'], 4: ['ʤ', 'ʧ'], 8: ['ʃ', 'ʒ'], 16: ['j'], 3: ['r_'], 17: ['w_']}\n"
          ],
          "name": "stdout"
        }
      ]
    },
    {
      "cell_type": "code",
      "metadata": {
        "colab": {
          "base_uri": "https://localhost:8080/"
        },
        "id": "QsRvoJNUJacf",
        "outputId": "a481980a-d3ec-493e-c569-514c3cdc8565"
      },
      "source": [
        "#translate messages to phonems (random taken if choice):\n",
        "translated = []\n",
        "for m in translated_messages:\n",
        "    str = \"\"\n",
        "    for l in m:\n",
        "        rl = np.random.choice(inverse_dict[l])\n",
        "        str+=rl\n",
        "        translated.append(str)\n",
        "print(translated)"
      ],
      "execution_count": null,
      "outputs": [
        {
          "output_type": "stream",
          "text": [
            "['b', 'ɔ', 'ɔp', 'ɛ', 'ɛp', 'ə', 'əð', 'əðp', 'ɑ', 'ɑv', 'ɑvp', 'ɪ', 'ɪə', 'ɪəb', 'ə', 'əa', 'əab', 'ɛ', 'ɛf', 'ɛfp', 'ɔ', 'ɔs', 'ɔsp', 'ɑ', 'ɑə', 'ɑəb', 'o', 'op', 'r', 'rp', 'o', 'or', 'orp', 'ɛ', 'ɛɪ', 'ɛɪp', 'ə', 'əb', 'i', 'iŋ', 'iŋp', 'θ', 'θp', 'd', 'dɔ', 'dɔp', 'd', 'dd', 'ddb', 'n', 'nʤ', 'nʤp', 'u', 'ur', 'urp', 'ɔ', 'ɔb', 'n', 'nɪ', 'nɪb', 'l', 'lz', 'lzb', 'w', 'wʒ', 'wʒb', 's', 'sb', 'ʤ', 'ʤg', 'ʤgp', 'ʃ', 'ʃs', 'ʃsd', 'ʃsdp', 'ɔ', 'ɔt', 'ɔtp', 'θ', 'θŋ', 'θŋb', 'æ', 'æp', 'h', 'hg', 'hgp', 'θ', 'θb', 'e', 'eɪ', 'eɪp', 'ʃ', 'ʃɑ', 'ʃɑb', 'ɑ', 'ɑu', 'ɑup', 'ʃ', 'ʃʊ', 'ʃʊp', 'ʃ', 'ʃd', 'ʃdp', 'd', 'df', 'dfb', 'h', 'hb', 'w', 'wʒ', 'wʒʊ', 'wʒʊb', 'd', 'dɑ', 'dɑp', 'd', 'dʒ', 'dʒp', 'h', 'hə', 'həp', 'ə', 'əs', 'əsb', 'd', 'də', 'dəp', 'u', 'um', 'ump', 'r', 'rr', 'rrb', 'z', 'zð', 'zðb', 'ʒ', 'ʒə', 'ʒəb', 'ʊ', 'ʊʊ', 'ʊʊp', 'h', 'hɛ', 'hɛb', 'ʧ', 'ʧl', 'ʧlb', 'ŋ', 'ŋʊ', 'ŋʊə', 'ŋʊəb', 't', 'th', 'thb', 'ð', 'ðk', 'ðkb', 'g', 'gp', 'u', 'uʧ', 'uʧb', 'r_', 'r_ʤ', 'r_ʤp', 's', 'so', 'sop', 'd', 'di', 'dip', 'θ', 'θʧ', 'θʧb', 'ŋ', 'ŋe', 'ŋeb', 'w', 'wʤ', 'wʤp', 's', 'sh', 'shb', 'h', 'ho', 'hop', 'v', 'vu', 'vub', 'ŋ', 'ŋw', 'ŋwu', 'ŋwub', 'm', 'mʊ', 'mʊʊ', 'mʊʊb', 'h', 'hŋ', 'hŋd', 'hŋdp', 'k', 'kæ', 'kæp', 'r_', 'r_k', 'r_kb', 'ʃ', 'ʃi', 'ʃib', 'd', 'dk', 'dkw_', 'dkw_p', 'ʧ', 'ʧɛ', 'ʧɛp', 'h', 'ha', 'haʃ', 'haʃp', 'z', 'zæ', 'zæk', 'zækb', 'ʧ', 'ʧg', 'ʧgb', 'v', 'vz', 'vzb', 'z', 'zv', 'zvh', 'zvhp', 'i', 'ig', 'igb', 'ʧ', 'ʧθ', 'ʧθp', 'g', 'ga', 'gab', 'ʊ', 'ʊd', 'ʊdb', 's', 'ss', 'ssv', 'ssvb', 'd', 'dɛ', 'dɛæ', 'dɛæp', 'g', 'gt', 'gtp', 't', 'ti', 'tiɪ', 'tiɪb', 'h', 'ht', 'htɑ', 'htɑb', 'g', 'gw', 'gwr', 'gwrb', 's', 'sa', 'saŋ', 'saŋb', 'ŋ', 'ŋr', 'ŋrp', 'k', 'kr_', 'kr_b', 'ʒ', 'ʒm', 'ʒmb', 'h', 'hð', 'hðm', 'hðmb', 'w', 'wŋ', 'wŋv', 'wŋvp', 'z', 'zw', 'zwp', 'd', 'dɛ', 'dɛɪ', 'dɛɪp', 'k', 'kr', 'krp', 'ʃ', 'ʃʊ', 'ʃʊə', 'ʃʊəb']\n"
          ],
          "name": "stdout"
        }
      ]
    },
    {
      "cell_type": "markdown",
      "metadata": {
        "id": "G0XmvaoQOUh9"
      },
      "source": [
        "###plot histograms"
      ]
    },
    {
      "cell_type": "code",
      "metadata": {
        "colab": {
          "base_uri": "https://localhost:8080/"
        },
        "id": "7P6ISSAeuXKf",
        "outputId": "dc3d658a-7418-4c73-ef30-5fe6dce1cc86"
      },
      "source": [
        "#Counts groups occurrences\n",
        "groups_keys = np.arange(19)\n",
        "occurrences = {}\n",
        "for m in translated_messages:\n",
        "    for l in m:\n",
        "        if l in occurrences:\n",
        "            occurrences[l] += 1\n",
        "        else:\n",
        "            occurrences[l] = 1\n",
        "\n",
        "print(occurrences)"
      ],
      "execution_count": null,
      "outputs": [
        {
          "output_type": "stream",
          "text": [
            "{0: 100, 18: 69, 6: 9, 5: 8, 7: 15, 14: 8, 12: 9, 1: 20, 11: 2, 4: 10, 13: 2, 15: 7, 8: 12, 2: 15, 9: 12, 10: 4, 3: 3, 17: 1}\n"
          ],
          "name": "stdout"
        }
      ]
    },
    {
      "cell_type": "code",
      "metadata": {
        "colab": {
          "base_uri": "https://localhost:8080/",
          "height": 449
        },
        "id": "XWi34rEYOpBb",
        "outputId": "f64fd252-7bfc-43cd-e327-29c20d124972"
      },
      "source": [
        "lst = list(occurrences.items())\n",
        "lst.sort(key = lambda x: x[0])\n",
        "y = np.array([k[1] for k in lst])\n",
        "x = np.array([k[0] for k in lst])\n",
        "n = np.sum(y)\n",
        "print(lst)\n",
        "data = y\n",
        "plt.bar(x = str_keys[x], height = data/n)\n",
        "plt.title('Phonems freq. in messages grouped by NAD cluster')\n",
        "plt.xticks(rotation=90)"
      ],
      "execution_count": null,
      "outputs": [
        {
          "output_type": "stream",
          "text": [
            "[(0, 100), (1, 20), (2, 15), (3, 3), (4, 10), (5, 8), (6, 9), (7, 15), (8, 12), (9, 12), (10, 4), (11, 2), (12, 9), (13, 2), (14, 8), (15, 7), (17, 1), (18, 69)]\n"
          ],
          "name": "stdout"
        },
        {
          "output_type": "execute_result",
          "data": {
            "text/plain": [
              "([0, 1, 2, 3, 4, 5, 6, 7, 8, 9, 10, 11, 12, 13, 14, 15, 16, 17],\n",
              " <a list of 18 Text major ticklabel objects>)"
            ]
          },
          "metadata": {
            "tags": []
          },
          "execution_count": 21
        },
        {
          "output_type": "display_data",
          "data": {
            "image/png": "[encoded data removed]",
            "text/plain": [
              "<Figure size 432x288 with 1 Axes>"
            ]
          },
          "metadata": {
            "tags": [],
            "needs_background": "light"
          }
        }
      ]
    },
    {
      "cell_type": "code",
      "metadata": {
        "colab": {
          "base_uri": "https://localhost:8080/"
        },
        "id": "Y1SxRrNjpDeQ",
        "outputId": "7d33565a-be9d-423b-f401-ebec5d946639"
      },
      "source": [
        "#Counts groups co-occurrences\n",
        "counts = np.zeros(19)\n",
        "counts[x] = y\n",
        "cooccurrences = np.zeros((19,19))\n",
        "for m in translated_messages:\n",
        "    for j,l in enumerate(m):\n",
        "        id = m[j]\n",
        "        if j!=0:\n",
        "            prev = m[j-1]\n",
        "            cooccurrences[id,prev] +=1\n",
        "        if j<len(m)-1:\n",
        "            next = m[j+1]\n",
        "            cooccurrences[id,next] +=1\n",
        "cooccurrences /= np.expand_dims(counts+1e-5,-1)\n",
        "print(cooccurrences.shape)"
      ],
      "execution_count": null,
      "outputs": [
        {
          "output_type": "stream",
          "text": [
            "(19, 19)\n"
          ],
          "name": "stdout"
        }
      ]
    },
    {
      "cell_type": "code",
      "metadata": {
        "colab": {
          "base_uri": "https://localhost:8080/",
          "height": 1000
        },
        "id": "SczjrOawOCJt",
        "outputId": "e6e28f4d-4c21-45b4-bf69-5d4dbd8092c9"
      },
      "source": [
        "plt.matshow(cooccurrences[:19,:19], cmap=plt.cm.Blues)\n",
        "plt.xticks(np.arange(19), str_keys, rotation=90)\n",
        "plt.yticks(np.arange(19), str_keys)"
      ],
      "execution_count": null,
      "outputs": [
        {
          "output_type": "execute_result",
          "data": {
            "text/plain": [
              "([<matplotlib.axis.YTick at 0x7ff402fd6a90>,\n",
              "  <matplotlib.axis.YTick at 0x7ff4030e89d0>,\n",
              "  <matplotlib.axis.YTick at 0x7ff402fdc410>,\n",
              "  <matplotlib.axis.YTick at 0x7ff402eda510>,\n",
              "  <matplotlib.axis.YTick at 0x7ff402edaa50>,\n",
              "  <matplotlib.axis.YTick at 0x7ff402ed4510>,\n",
              "  <matplotlib.axis.YTick at 0x7ff402f3ba90>,\n",
              "  <matplotlib.axis.YTick at 0x7ff402eda690>,\n",
              "  <matplotlib.axis.YTick at 0x7ff402ee2210>,\n",
              "  <matplotlib.axis.YTick at 0x7ff402ee2710>,\n",
              "  <matplotlib.axis.YTick at 0x7ff402ee2c10>,\n",
              "  <matplotlib.axis.YTick at 0x7ff402eea0d0>,\n",
              "  <matplotlib.axis.YTick at 0x7ff402eea6d0>,\n",
              "  <matplotlib.axis.YTick at 0x7ff402eeac10>,\n",
              "  <matplotlib.axis.YTick at 0x7ff402eea750>,\n",
              "  <matplotlib.axis.YTick at 0x7ff402ee2b10>,\n",
              "  <matplotlib.axis.YTick at 0x7ff402eea050>,\n",
              "  <matplotlib.axis.YTick at 0x7ff402ef3290>,\n",
              "  <matplotlib.axis.YTick at 0x7ff402ef3810>],\n",
              " [Text(0, 0, 'b.p'),\n",
              "  Text(0, 0, 't.d'),\n",
              "  Text(0, 0, 'k.g'),\n",
              "  Text(0, 0, 'r_'),\n",
              "  Text(0, 0, 'ʤ.ʧ'),\n",
              "  Text(0, 0, 'f.v'),\n",
              "  Text(0, 0, 'ð.θ'),\n",
              "  Text(0, 0, 's.z'),\n",
              "  Text(0, 0, 'ʃ.ʒ'),\n",
              "  Text(0, 0, 'h'),\n",
              "  Text(0, 0, 'm'),\n",
              "  Text(0, 0, 'n'),\n",
              "  Text(0, 0, 'ŋ'),\n",
              "  Text(0, 0, 'l'),\n",
              "  Text(0, 0, 'r'),\n",
              "  Text(0, 0, 'w'),\n",
              "  Text(0, 0, 'j'),\n",
              "  Text(0, 0, 'w_'),\n",
              "  Text(0, 0, 'ə.ɪ.i.ɛ.a.e.ʊ.æ.ɔ.o.ɑ.u')])"
            ]
          },
          "metadata": {
            "tags": []
          },
          "execution_count": 25
        },
        {
          "output_type": "display_data",
          "data": {
            "image/png": "[encoded data removed]",
            "text/plain": [
              "<Figure size 288x288 with 1 Axes>"
            ]
          },
          "metadata": {
            "tags": [],
            "needs_background": "light"
          }
        }
      ]
    },
    {
      "cell_type": "markdown",
      "metadata": {
        "id": "ShKbYdevUpOW"
      },
      "source": [
        "##Lazimpa analysis"
      ]
    },
    {
      "cell_type": "code",
      "metadata": {
        "colab": {
          "base_uri": "https://localhost:8080/"
        },
        "id": "pdlFg2JwUxJA",
        "outputId": "9f3f2fb3-4cdc-4696-bf28-4ab751bd10b0"
      },
      "source": [
        "messages = np.load('Lazimpa/experiments/dir_save_impatient/messages/messages_500.npy', allow_pickle=True)\n",
        "print(messages)\n",
        "print(len(messages))"
      ],
      "execution_count": null,
      "outputs": [
        {
          "output_type": "stream",
          "text": [
            "[array([0]) array([26,  0]) array([37, 37,  6,  0]) array([ 5, 37,  0])\n",
            " array([37, 37,  0]) array([37, 37, 37,  0]) array([37, 37, 35,  0])\n",
            " array([21, 36,  0]) array([37, 37, 22,  0]) array([37, 35,  0])\n",
            " array([37,  0]) array([22,  0]) array([37, 28,  0]) array([39, 10,  0])\n",
            " array([17,  0]) array([39, 36,  0]) array([ 9, 10,  0])\n",
            " array([39,  2,  0]) array([37,  6, 37,  0]) array([39, 36, 10,  0])\n",
            " array([24,  9,  0]) array([30,  0]) array([18, 20,  0])\n",
            " array([37,  2,  9,  0]) array([18, 16,  0]) array([39,  2,  2,  0])\n",
            " array([13,  0]) array([39, 39, 10,  0]) array([18,  0])\n",
            " array([39, 36,  9,  0]) array([18, 35, 35,  0]) array([39,  0])\n",
            " array([39, 18,  0]) array([37,  6, 16,  0]) array([39,  3, 10,  0])\n",
            " array([3, 2, 0]) array([ 3, 36,  0]) array([12, 36, 10,  0])\n",
            " array([37,  6, 28,  0]) array([24, 36,  0]) array([39,  9,  0])\n",
            " array([1, 4, 0]) array([39, 21, 37,  0]) array([8, 9, 0]) array([1, 0])\n",
            " array([38,  0]) array([37,  9, 22,  0]) array([18, 18, 18, 37,  0])\n",
            " array([32,  2,  0]) array([18, 18,  0]) array([30, 35,  9,  0])\n",
            " array([16,  0]) array([39,  2, 10,  0]) array([18, 18, 10,  0])\n",
            " array([37, 22,  3,  0]) array([37, 13, 18,  0]) array([30,  3,  0])\n",
            " array([ 3, 11, 36,  0]) array([18, 18, 18, 18,  0])\n",
            " array([39, 18, 18,  0]) array([ 1, 36,  0]) array([18, 18, 18, 27,  0])\n",
            " array([24, 10,  0]) array([17,  4, 23,  0]) array([39, 18,  9,  0])\n",
            " array([37,  6, 35,  9,  0]) array([16, 36,  0]) array([ 1, 36,  9,  0])\n",
            " array([37, 17,  3,  0]) array([38,  3,  0]) array([ 1, 10,  0])\n",
            " array([18, 18, 35, 23,  0]) array([24,  0]) array([37, 17, 35,  0])\n",
            " array([39, 39,  0]) array([7, 3, 0]) array([27,  0]) array([ 3, 10,  0])\n",
            " array([ 5, 13,  0]) array([18, 27,  0]) array([18, 18,  9,  0])\n",
            " array([38,  2, 23,  9,  0]) array([3, 0]) array([18,  9,  0])\n",
            " array([3, 3, 0]) array([37,  8,  9, 17, 13,  0])\n",
            " array([39,  2, 35,  9,  0]) array([ 3,  8, 35,  9,  0])\n",
            " array([13, 36,  0]) array([13, 35, 23,  0]) array([38, 31,  9,  0])\n",
            " array([39,  3,  0]) array([17,  3,  0]) array([16,  5, 10,  0])\n",
            " array([3, 9, 0]) array([18, 18, 30, 36,  0]) array([13,  3,  0])\n",
            " array([18, 18, 18, 10,  0]) array([ 5, 10,  0]) array([12,  3,  0])]\n",
            "100\n"
          ],
          "name": "stdout"
        }
      ]
    },
    {
      "cell_type": "code",
      "metadata": {
        "colab": {
          "base_uri": "https://localhost:8080/"
        },
        "id": "eo0j2uSAVVbe",
        "outputId": "4f73625b-66c3-4183-96aa-867b7d57cd15"
      },
      "source": [
        "#translate messages to group ids\n",
        "translated_messages = []\n",
        "for m in messages:\n",
        "    translated_messages.append( [ dmap1[l] for l in m] )\n",
        "print(translated_messages)"
      ],
      "execution_count": null,
      "outputs": [
        {
          "output_type": "stream",
          "text": [
            "[[0], [18, 0], [18, 18, 3, 0], [2, 18, 0], [18, 18, 0], [18, 18, 18, 0], [18, 18, 18, 0], [13, 18, 0], [18, 18, 14, 0], [18, 18, 0], [18, 0], [14, 0], [18, 18, 0], [18, 5, 0], [9, 0], [18, 18, 0], [5, 5, 0], [18, 1, 0], [18, 3, 18, 0], [18, 18, 5, 0], [16, 5, 0], [18, 0], [10, 12, 0], [18, 1, 5, 0], [10, 8, 0], [18, 1, 1, 0], [7, 0], [18, 18, 5, 0], [10, 0], [18, 18, 5, 0], [10, 18, 18, 0], [18, 0], [18, 10, 0], [18, 3, 8, 0], [18, 1, 5, 0], [1, 1, 0], [1, 18, 0], [6, 18, 5, 0], [18, 3, 18, 0], [16, 18, 0], [18, 5, 0], [0, 2, 0], [18, 13, 18, 0], [4, 5, 0], [0, 0], [18, 0], [18, 5, 14, 0], [10, 10, 10, 18, 0], [18, 1, 0], [10, 10, 0], [18, 18, 5, 0], [8, 0], [18, 1, 5, 0], [10, 10, 5, 0], [18, 14, 1, 0], [18, 7, 10, 0], [18, 1, 0], [1, 6, 18, 0], [10, 10, 10, 10, 0], [18, 10, 10, 0], [0, 18, 0], [10, 10, 10, 18, 0], [16, 5, 0], [9, 2, 15, 0], [18, 10, 5, 0], [18, 3, 18, 5, 0], [8, 18, 0], [0, 18, 5, 0], [18, 9, 1, 0], [18, 1, 0], [0, 5, 0], [10, 10, 18, 15, 0], [16, 0], [18, 9, 18, 0], [18, 18, 0], [4, 1, 0], [18, 0], [1, 5, 0], [2, 7, 0], [10, 18, 0], [10, 10, 5, 0], [18, 1, 15, 5, 0], [1, 0], [10, 5, 0], [1, 1, 0], [18, 4, 5, 9, 7, 0], [18, 1, 18, 5, 0], [1, 4, 18, 5, 0], [7, 18, 0], [7, 18, 15, 0], [18, 18, 5, 0], [18, 1, 0], [9, 1, 0], [8, 2, 5, 0], [1, 5, 0], [10, 10, 18, 18, 0], [7, 1, 0], [10, 10, 10, 5, 0], [2, 5, 0], [6, 1, 0]]\n"
          ],
          "name": "stdout"
        }
      ]
    },
    {
      "cell_type": "code",
      "metadata": {
        "colab": {
          "base_uri": "https://localhost:8080/"
        },
        "id": "B_TR3DvDzhgW",
        "outputId": "5aa7f2ae-b394-4759-dc21-aeddb8ac5e8e"
      },
      "source": [
        "mean_len = 0\n",
        "for m in translated_messages:\n",
        "    mean_len += len(m)\n",
        "mean_len = mean_len / len(translated_messages)\n",
        "print(mean_len)"
      ],
      "execution_count": null,
      "outputs": [
        {
          "output_type": "stream",
          "text": [
            "3.4\n"
          ],
          "name": "stdout"
        }
      ]
    },
    {
      "cell_type": "markdown",
      "metadata": {
        "id": "UqaHSjJ1VhC8"
      },
      "source": [
        "###translate encoded messages to phonems"
      ]
    },
    {
      "cell_type": "code",
      "metadata": {
        "colab": {
          "base_uri": "https://localhost:8080/"
        },
        "id": "oeTRLwrkVbv9",
        "outputId": "f9c522b7-524d-46d7-b9d0-ef4869a1dc25"
      },
      "source": [
        "#translate messages to phonems (random taken if choice):\n",
        "translated = []\n",
        "for m in translated_messages:\n",
        "    str = \"\"\n",
        "    for l in m:\n",
        "        rl = np.random.choice(inverse_dict[l])\n",
        "        str+=rl\n",
        "        translated.append(str)\n",
        "print(translated)"
      ],
      "execution_count": null,
      "outputs": [
        {
          "output_type": "stream",
          "text": [
            "['b', 'o', 'ob', 'i', 'iʊ', 'iʊr_', 'iʊr_p', 'g', 'gɑ', 'gɑb', 'ɑ', 'ɑa', 'ɑab', 'ɛ', 'ɛu', 'ɛuə', 'ɛuəb', 'ɪ', 'ɪu', 'ɪuɑ', 'ɪuɑb', 'l', 'lɔ', 'lɔb', 'a', 'ae', 'aer', 'aerp', 'ɪ', 'ɪi', 'ɪib', 'a', 'ap', 'r', 'rp', 'ɔ', 'ɔi', 'ɔip', 'e', 'ev', 'evp', 'h', 'hp', 'a', 'aə', 'aəp', 'f', 'ff', 'ffb', 'ə', 'ət', 'ətb', 'ɪ', 'ɪr_', 'ɪr_o', 'ɪr_op', 'æ', 'æo', 'æov', 'æovb', 'j', 'jv', 'jvb', 'ə', 'əp', 'm', 'mŋ', 'mŋp', 'e', 'ed', 'edv', 'edvp', 'm', 'mʃ', 'mʃb', 'u', 'ut', 'utt', 'uttp', 'z', 'zp', 'ə', 'əe', 'əev', 'əevb', 'm', 'mp', 'ɛ', 'ɛo', 'ɛof', 'ɛofp', 'm', 'mɔ', 'mɔə', 'mɔəp', 'a', 'ap', 'o', 'om', 'omp', 'a', 'ar_', 'ar_ʃ', 'ar_ʃb', 'e', 'ed', 'edv', 'edvp', 't', 'tt', 'ttb', 'd', 'də', 'dəb', 'ð', 'ðu', 'ðuf', 'ðufp', 'ɑ', 'ɑr_', 'ɑr_ə', 'ɑr_əb', 'j', 'jɪ', 'jɪp', 'ɔ', 'ɔf', 'ɔfb', 'b', 'bg', 'bgp', 'ɛ', 'ɛl', 'ɛla', 'ɛlap', 'ʧ', 'ʧf', 'ʧfp', 'b', 'bp', 'u', 'up', 'ɔ', 'ɔv', 'ɔvr', 'ɔvrp', 'm', 'mm', 'mmm', 'mmma', 'mmmap', 'ɪ', 'ɪt', 'ɪtb', 'm', 'mm', 'mmp', 'æ', 'ææ', 'ææf', 'ææfp', 'ʃ', 'ʃb', 'ə', 'ət', 'ətv', 'ətvp', 'm', 'mm', 'mmv', 'mmvp', 'ɛ', 'ɛr', 'ɛrd', 'ɛrdb', 'æ', 'æs', 'æsm', 'æsmb', 'o', 'od', 'odp', 'd', 'dθ', 'dθɑ', 'dθɑp', 'm', 'mm', 'mmm', 'mmmm', 'mmmmb', 'i', 'im', 'imm', 'immp', 'p', 'pɔ', 'pɔb', 'm', 'mm', 'mmm', 'mmmu', 'mmmub', 'j', 'jv', 'jvp', 'h', 'hk', 'hkw', 'hkwp', 'ə', 'əm', 'əmv', 'əmvp', 'æ', 'ær_', 'ær_ɑ', 'ær_ɑv', 'ær_ɑvb', 'ʒ', 'ʒæ', 'ʒæb', 'b', 'bæ', 'bæv', 'bævb', 'ə', 'əh', 'əht', 'əhtb', 'ɔ', 'ɔt', 'ɔtp', 'b', 'bv', 'bvb', 'm', 'mm', 'mmæ', 'mmæw', 'mmæwp', 'j', 'jp', 'ɛ', 'ɛh', 'ɛho', 'ɛhop', 'o', 'oɛ', 'oɛp', 'ʤ', 'ʤt', 'ʤtp', 'ɑ', 'ɑp', 't', 'tf', 'tfp', 'k', 'ks', 'ksb', 'm', 'mi', 'mip', 'm', 'mm', 'mmf', 'mmfp', 'o', 'od', 'odw', 'odwf', 'odwfb', 't', 'tb', 'm', 'mf', 'mfp', 't', 'tt', 'ttb', 'æ', 'æʧ', 'æʧv', 'æʧvh', 'æʧvhz', 'æʧvhzb', 'ɛ', 'ɛd', 'ɛdɛ', 'ɛdɛf', 'ɛdɛfp', 'd', 'dʧ', 'dʧo', 'dʧof', 'dʧofb', 's', 'si', 'sib', 's', 'sɪ', 'sɪw', 'sɪwp', 'ɪ', 'ɪɪ', 'ɪɪf', 'ɪɪfb', 'ɪ', 'ɪd', 'ɪdp', 'h', 'ht', 'htb', 'ʃ', 'ʃg', 'ʃgv', 'ʃgvp', 't', 'tf', 'tfp', 'm', 'mm', 'mmɛ', 'mmɛʊ', 'mmɛʊp', 'z', 'zt', 'ztp', 'm', 'mm', 'mmm', 'mmmv', 'mmmvp', 'g', 'gf', 'gfp', 'θ', 'θd', 'θdb']\n"
          ],
          "name": "stdout"
        }
      ]
    },
    {
      "cell_type": "markdown",
      "metadata": {
        "id": "H8GF4CxMV05U"
      },
      "source": [
        "###plot histograms\n"
      ]
    },
    {
      "cell_type": "code",
      "metadata": {
        "colab": {
          "base_uri": "https://localhost:8080/"
        },
        "id": "Ihxpzfo8V1zV",
        "outputId": "30544cf0-76c3-46f5-ad52-1555e95a88ae"
      },
      "source": [
        "#Counts groups occurrences\n",
        "groups_keys = np.arange(19)\n",
        "occurrences = {}\n",
        "for m in translated_messages:\n",
        "    for l in m:\n",
        "        if l in occurrences:\n",
        "            occurrences[l] += 1\n",
        "        else:\n",
        "            occurrences[l] = 1\n",
        "\n",
        "print(occurrences)"
      ],
      "execution_count": null,
      "outputs": [
        {
          "output_type": "stream",
          "text": [
            "{0: 105, 18: 89, 3: 5, 2: 6, 13: 2, 14: 4, 5: 33, 9: 6, 1: 28, 16: 4, 10: 34, 12: 1, 8: 5, 7: 7, 6: 3, 4: 4, 15: 4}\n"
          ],
          "name": "stdout"
        }
      ]
    },
    {
      "cell_type": "code",
      "metadata": {
        "colab": {
          "base_uri": "https://localhost:8080/",
          "height": 449
        },
        "id": "JCcPdT2hV3Ft",
        "outputId": "114ad085-0412-4872-ee4b-30695513d14a"
      },
      "source": [
        "lst = list(occurrences.items())\n",
        "lst.sort(key = lambda x: x[0])\n",
        "y = np.array([k[1] for k in lst])\n",
        "x = np.array([k[0] for k in lst])\n",
        "n = np.sum(y)\n",
        "print(lst)\n",
        "data = y\n",
        "plt.bar(x = str_keys[x], height = data/n)\n",
        "plt.title('Phonems freq. in messages grouped by NAD cluster')\n",
        "plt.xticks(rotation=90)"
      ],
      "execution_count": null,
      "outputs": [
        {
          "output_type": "stream",
          "text": [
            "[(0, 105), (1, 28), (2, 6), (3, 5), (4, 4), (5, 33), (6, 3), (7, 7), (8, 5), (9, 6), (10, 34), (12, 1), (13, 2), (14, 4), (15, 4), (16, 4), (18, 89)]\n"
          ],
          "name": "stdout"
        },
        {
          "output_type": "execute_result",
          "data": {
            "text/plain": [
              "([0, 1, 2, 3, 4, 5, 6, 7, 8, 9, 10, 11, 12, 13, 14, 15, 16],\n",
              " <a list of 17 Text major ticklabel objects>)"
            ]
          },
          "metadata": {
            "tags": []
          },
          "execution_count": 31
        },
        {
          "output_type": "display_data",
          "data": {
            "image/png": "[encoded data removed]",
            "text/plain": [
              "<Figure size 432x288 with 1 Axes>"
            ]
          },
          "metadata": {
            "tags": [],
            "needs_background": "light"
          }
        }
      ]
    },
    {
      "cell_type": "code",
      "metadata": {
        "id": "-tFDV9WOWDvO",
        "colab": {
          "base_uri": "https://localhost:8080/"
        },
        "outputId": "b9996e58-c1a8-4bf5-919b-a9f972c66efc"
      },
      "source": [
        "#Counts groups co-occurrences\n",
        "counts = np.zeros(19)\n",
        "counts[x] = y\n",
        "cooccurrences = np.zeros((19,19))\n",
        "for m in translated_messages:\n",
        "    for j,l in enumerate(m):\n",
        "        id = m[j]\n",
        "        if j!=0:\n",
        "            prev = m[j-1]\n",
        "            cooccurrences[id,prev] +=1\n",
        "        if j<len(m)-1:\n",
        "            next = m[j+1]\n",
        "            cooccurrences[id,next] +=1\n",
        "cooccurrences /= np.expand_dims(counts+1e-5,-1)\n",
        "print(cooccurrences.shape)"
      ],
      "execution_count": null,
      "outputs": [
        {
          "output_type": "stream",
          "text": [
            "(19, 19)\n"
          ],
          "name": "stdout"
        }
      ]
    },
    {
      "cell_type": "code",
      "metadata": {
        "id": "Vdz1nq8vWEY2",
        "colab": {
          "base_uri": "https://localhost:8080/",
          "height": 1000
        },
        "outputId": "f69f95b8-0e53-43ee-9af6-085030ef2484"
      },
      "source": [
        "plt.matshow(cooccurrences[:19,:19], cmap=plt.cm.Blues)\n",
        "plt.xticks(np.arange(19), str_keys, rotation=90)\n",
        "plt.yticks(np.arange(19), str_keys)"
      ],
      "execution_count": null,
      "outputs": [
        {
          "output_type": "execute_result",
          "data": {
            "text/plain": [
              "([<matplotlib.axis.YTick at 0x7ff402e36310>,\n",
              "  <matplotlib.axis.YTick at 0x7ff402e36050>,\n",
              "  <matplotlib.axis.YTick at 0x7ff402dec750>,\n",
              "  <matplotlib.axis.YTick at 0x7ff402db11d0>,\n",
              "  <matplotlib.axis.YTick at 0x7ff402d4d050>,\n",
              "  <matplotlib.axis.YTick at 0x7ff402d4d690>,\n",
              "  <matplotlib.axis.YTick at 0x7ff402d4dc10>,\n",
              "  <matplotlib.axis.YTick at 0x7ff402d52090>,\n",
              "  <matplotlib.axis.YTick at 0x7ff402d526d0>,\n",
              "  <matplotlib.axis.YTick at 0x7ff402d52c10>,\n",
              "  <matplotlib.axis.YTick at 0x7ff402d5c090>,\n",
              "  <matplotlib.axis.YTick at 0x7ff402d5c690>,\n",
              "  <matplotlib.axis.YTick at 0x7ff402d52790>,\n",
              "  <matplotlib.axis.YTick at 0x7ff402db1c10>,\n",
              "  <matplotlib.axis.YTick at 0x7ff402d5c750>,\n",
              "  <matplotlib.axis.YTick at 0x7ff402d5cd90>,\n",
              "  <matplotlib.axis.YTick at 0x7ff402d65390>,\n",
              "  <matplotlib.axis.YTick at 0x7ff402d65850>,\n",
              "  <matplotlib.axis.YTick at 0x7ff402d65d90>],\n",
              " [Text(0, 0, 'b.p'),\n",
              "  Text(0, 0, 't.d'),\n",
              "  Text(0, 0, 'k.g'),\n",
              "  Text(0, 0, 'r_'),\n",
              "  Text(0, 0, 'ʤ.ʧ'),\n",
              "  Text(0, 0, 'f.v'),\n",
              "  Text(0, 0, 'ð.θ'),\n",
              "  Text(0, 0, 's.z'),\n",
              "  Text(0, 0, 'ʃ.ʒ'),\n",
              "  Text(0, 0, 'h'),\n",
              "  Text(0, 0, 'm'),\n",
              "  Text(0, 0, 'n'),\n",
              "  Text(0, 0, 'ŋ'),\n",
              "  Text(0, 0, 'l'),\n",
              "  Text(0, 0, 'r'),\n",
              "  Text(0, 0, 'w'),\n",
              "  Text(0, 0, 'j'),\n",
              "  Text(0, 0, 'w_'),\n",
              "  Text(0, 0, 'ə.ɪ.i.ɛ.a.e.ʊ.æ.ɔ.o.ɑ.u')])"
            ]
          },
          "metadata": {
            "tags": []
          },
          "execution_count": 33
        },
        {
          "output_type": "display_data",
          "data": {
            "image/png": "[encoded data removed]",
            "text/plain": [
              "<Figure size 288x288 with 1 Axes>"
            ]
          },
          "metadata": {
            "tags": [],
            "needs_background": "light"
          }
        }
      ]
    }
  ]
}